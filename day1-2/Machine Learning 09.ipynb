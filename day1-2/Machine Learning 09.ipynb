{
 "cells": [
  {
   "cell_type": "code",
   "execution_count": 1,
   "metadata": {
    "collapsed": true
   },
   "outputs": [],
   "source": [
    "import pandas as pd\n",
    "import numpy as np"
   ]
  },
  {
   "cell_type": "code",
   "execution_count": 2,
   "outputs": [
    {
     "data": {
      "text/plain": "            Age  income student Credit rating buys computer (Y/N)\n0         youth    high      no          fair                  no\n1         youth    high      no     excellent                  no\n2   middle aged    high      no          fair                 yes\n3        senior  medium      no          fair                 yes\n4        senior     low     yes          fair                 yes\n5        senior     low     yes     excellent                  no\n6   middle aged     low     yes     excellent                 yes\n7         youth  medium      no          fair                  no\n8         youth     low     yes          fair                 yes\n9        senior  medium     yes          fair                 yes\n10        youth  medium     yes     excellent                 yes\n11  middle aged  medium      no     excellent                 yes\n12  middle aged    high     yes          fair                 yes\n13       senior  medium      no     excellent                  no",
      "text/html": "<div>\n<style scoped>\n    .dataframe tbody tr th:only-of-type {\n        vertical-align: middle;\n    }\n\n    .dataframe tbody tr th {\n        vertical-align: top;\n    }\n\n    .dataframe thead th {\n        text-align: right;\n    }\n</style>\n<table border=\"1\" class=\"dataframe\">\n  <thead>\n    <tr style=\"text-align: right;\">\n      <th></th>\n      <th>Age</th>\n      <th>income</th>\n      <th>student</th>\n      <th>Credit rating</th>\n      <th>buys computer (Y/N)</th>\n    </tr>\n  </thead>\n  <tbody>\n    <tr>\n      <th>0</th>\n      <td>youth</td>\n      <td>high</td>\n      <td>no</td>\n      <td>fair</td>\n      <td>no</td>\n    </tr>\n    <tr>\n      <th>1</th>\n      <td>youth</td>\n      <td>high</td>\n      <td>no</td>\n      <td>excellent</td>\n      <td>no</td>\n    </tr>\n    <tr>\n      <th>2</th>\n      <td>middle aged</td>\n      <td>high</td>\n      <td>no</td>\n      <td>fair</td>\n      <td>yes</td>\n    </tr>\n    <tr>\n      <th>3</th>\n      <td>senior</td>\n      <td>medium</td>\n      <td>no</td>\n      <td>fair</td>\n      <td>yes</td>\n    </tr>\n    <tr>\n      <th>4</th>\n      <td>senior</td>\n      <td>low</td>\n      <td>yes</td>\n      <td>fair</td>\n      <td>yes</td>\n    </tr>\n    <tr>\n      <th>5</th>\n      <td>senior</td>\n      <td>low</td>\n      <td>yes</td>\n      <td>excellent</td>\n      <td>no</td>\n    </tr>\n    <tr>\n      <th>6</th>\n      <td>middle aged</td>\n      <td>low</td>\n      <td>yes</td>\n      <td>excellent</td>\n      <td>yes</td>\n    </tr>\n    <tr>\n      <th>7</th>\n      <td>youth</td>\n      <td>medium</td>\n      <td>no</td>\n      <td>fair</td>\n      <td>no</td>\n    </tr>\n    <tr>\n      <th>8</th>\n      <td>youth</td>\n      <td>low</td>\n      <td>yes</td>\n      <td>fair</td>\n      <td>yes</td>\n    </tr>\n    <tr>\n      <th>9</th>\n      <td>senior</td>\n      <td>medium</td>\n      <td>yes</td>\n      <td>fair</td>\n      <td>yes</td>\n    </tr>\n    <tr>\n      <th>10</th>\n      <td>youth</td>\n      <td>medium</td>\n      <td>yes</td>\n      <td>excellent</td>\n      <td>yes</td>\n    </tr>\n    <tr>\n      <th>11</th>\n      <td>middle aged</td>\n      <td>medium</td>\n      <td>no</td>\n      <td>excellent</td>\n      <td>yes</td>\n    </tr>\n    <tr>\n      <th>12</th>\n      <td>middle aged</td>\n      <td>high</td>\n      <td>yes</td>\n      <td>fair</td>\n      <td>yes</td>\n    </tr>\n    <tr>\n      <th>13</th>\n      <td>senior</td>\n      <td>medium</td>\n      <td>no</td>\n      <td>excellent</td>\n      <td>no</td>\n    </tr>\n  </tbody>\n</table>\n</div>"
     },
     "execution_count": 2,
     "metadata": {},
     "output_type": "execute_result"
    }
   ],
   "source": [
    "ds = pd.read_csv('Dataset/NB_computer.csv')\n",
    "ds"
   ],
   "metadata": {
    "collapsed": false,
    "pycharm": {
     "name": "#%%\n"
    }
   }
  },
  {
   "cell_type": "code",
   "execution_count": 3,
   "outputs": [
    {
     "data": {
      "text/plain": "array([['youth', 'high', 'no', 'fair'],\n       ['youth', 'high', 'no', 'excellent'],\n       ['middle aged', 'high', 'no', 'fair'],\n       ['senior', 'medium', 'no', 'fair'],\n       ['senior', 'low', 'yes', 'fair'],\n       ['senior', 'low', 'yes', 'excellent'],\n       ['middle aged', 'low', 'yes', 'excellent'],\n       ['youth', 'medium', 'no', 'fair'],\n       ['youth', 'low', 'yes', 'fair'],\n       ['senior', 'medium', 'yes', 'fair'],\n       ['youth', 'medium', 'yes', 'excellent'],\n       ['middle aged', 'medium', 'no', 'excellent'],\n       ['middle aged', 'high', 'yes', 'fair'],\n       ['senior', 'medium', 'no', 'excellent']], dtype=object)"
     },
     "execution_count": 3,
     "metadata": {},
     "output_type": "execute_result"
    }
   ],
   "source": [
    "x = ds.iloc[:,:-1].values\n",
    "x"
   ],
   "metadata": {
    "collapsed": false,
    "pycharm": {
     "name": "#%%\n"
    }
   }
  },
  {
   "cell_type": "code",
   "execution_count": 4,
   "outputs": [
    {
     "data": {
      "text/plain": "array(['no', 'no', 'yes', 'yes', 'yes', 'no', 'yes', 'no', 'yes', 'yes',\n       'yes', 'yes', 'yes', 'no'], dtype=object)"
     },
     "execution_count": 4,
     "metadata": {},
     "output_type": "execute_result"
    }
   ],
   "source": [
    "y = ds.iloc[:,-1].values\n",
    "y"
   ],
   "metadata": {
    "collapsed": false,
    "pycharm": {
     "name": "#%%\n"
    }
   }
  },
  {
   "cell_type": "code",
   "execution_count": 5,
   "outputs": [
    {
     "name": "stdout",
     "output_type": "stream",
     "text": [
      "[[2 0 0 1]\n",
      " [2 0 0 0]\n",
      " [0 0 0 1]\n",
      " [1 2 0 1]\n",
      " [1 1 1 1]\n",
      " [1 1 1 0]\n",
      " [0 1 1 0]\n",
      " [2 2 0 1]\n",
      " [2 1 1 1]\n",
      " [1 2 1 1]\n",
      " [2 2 1 0]\n",
      " [0 2 0 0]\n",
      " [0 0 1 1]\n",
      " [1 2 0 0]]\n"
     ]
    }
   ],
   "source": [
    "from sklearn.preprocessing import LabelEncoder\n",
    "labelencoder_X = LabelEncoder()\n",
    "x[:, 0] = labelencoder_X.fit_transform(x[:, 0])\n",
    "x[:, 1] = labelencoder_X.fit_transform(x[:, 1])\n",
    "x[:, 2] = labelencoder_X.fit_transform(x[:, 2])\n",
    "x[:, 3] = labelencoder_X.fit_transform(x[:, 3])\n",
    "print(x)"
   ],
   "metadata": {
    "collapsed": false,
    "pycharm": {
     "name": "#%%\n"
    }
   }
  },
  {
   "cell_type": "code",
   "execution_count": 6,
   "outputs": [],
   "source": [
    "from sklearn.naive_bayes import BernoulliNB\n",
    "classifier = BernoulliNB()\n",
    "classifier = classifier.fit(x,y)"
   ],
   "metadata": {
    "collapsed": false,
    "pycharm": {
     "name": "#%%\n"
    }
   }
  },
  {
   "cell_type": "code",
   "execution_count": 8,
   "outputs": [
    {
     "data": {
      "text/plain": "array(['yes'], dtype='<U3')"
     },
     "execution_count": 8,
     "metadata": {},
     "output_type": "execute_result"
    }
   ],
   "source": [
    "prediction = classifier.predict([[2,2,1,1]])\n",
    "prediction"
   ],
   "metadata": {
    "collapsed": false,
    "pycharm": {
     "name": "#%%\n"
    }
   }
  },
  {
   "cell_type": "code",
   "execution_count": null,
   "outputs": [],
   "source": [],
   "metadata": {
    "collapsed": false,
    "pycharm": {
     "name": "#%%\n"
    }
   }
  }
 ],
 "metadata": {
  "kernelspec": {
   "display_name": "Python 3",
   "language": "python",
   "name": "python3"
  },
  "language_info": {
   "codemirror_mode": {
    "name": "ipython",
    "version": 2
   },
   "file_extension": ".py",
   "mimetype": "text/x-python",
   "name": "python",
   "nbconvert_exporter": "python",
   "pygments_lexer": "ipython2",
   "version": "2.7.6"
  }
 },
 "nbformat": 4,
 "nbformat_minor": 0
}