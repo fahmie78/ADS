{
 "cells": [
  {
   "cell_type": "code",
   "execution_count": 19,
   "metadata": {
    "collapsed": true
   },
   "outputs": [],
   "source": [
    "import pandas as pd"
   ]
  },
  {
   "cell_type": "code",
   "execution_count": 20,
   "outputs": [
    {
     "data": {
      "text/plain": "     Montly Salary  age  Y/N\n0             2386   18    0\n1             2486   19    0\n2             2586   20    0\n3             2686   20    0\n4             2756   20    0\n..             ...  ...  ...\n395          12557   60    1\n396          14270   60    1\n397          10262   60    1\n398           7782   60    0\n399          11186   60    1\n\n[400 rows x 3 columns]",
      "text/html": "<div>\n<style scoped>\n    .dataframe tbody tr th:only-of-type {\n        vertical-align: middle;\n    }\n\n    .dataframe tbody tr th {\n        vertical-align: top;\n    }\n\n    .dataframe thead th {\n        text-align: right;\n    }\n</style>\n<table border=\"1\" class=\"dataframe\">\n  <thead>\n    <tr style=\"text-align: right;\">\n      <th></th>\n      <th>Montly Salary</th>\n      <th>age</th>\n      <th>Y/N</th>\n    </tr>\n  </thead>\n  <tbody>\n    <tr>\n      <th>0</th>\n      <td>2386</td>\n      <td>18</td>\n      <td>0</td>\n    </tr>\n    <tr>\n      <th>1</th>\n      <td>2486</td>\n      <td>19</td>\n      <td>0</td>\n    </tr>\n    <tr>\n      <th>2</th>\n      <td>2586</td>\n      <td>20</td>\n      <td>0</td>\n    </tr>\n    <tr>\n      <th>3</th>\n      <td>2686</td>\n      <td>20</td>\n      <td>0</td>\n    </tr>\n    <tr>\n      <th>4</th>\n      <td>2756</td>\n      <td>20</td>\n      <td>0</td>\n    </tr>\n    <tr>\n      <th>...</th>\n      <td>...</td>\n      <td>...</td>\n      <td>...</td>\n    </tr>\n    <tr>\n      <th>395</th>\n      <td>12557</td>\n      <td>60</td>\n      <td>1</td>\n    </tr>\n    <tr>\n      <th>396</th>\n      <td>14270</td>\n      <td>60</td>\n      <td>1</td>\n    </tr>\n    <tr>\n      <th>397</th>\n      <td>10262</td>\n      <td>60</td>\n      <td>1</td>\n    </tr>\n    <tr>\n      <th>398</th>\n      <td>7782</td>\n      <td>60</td>\n      <td>0</td>\n    </tr>\n    <tr>\n      <th>399</th>\n      <td>11186</td>\n      <td>60</td>\n      <td>1</td>\n    </tr>\n  </tbody>\n</table>\n<p>400 rows × 3 columns</p>\n</div>"
     },
     "execution_count": 20,
     "metadata": {},
     "output_type": "execute_result"
    }
   ],
   "source": [
    "transit = pd.read_csv('Dataset/LRT_car.csv')\n",
    "transit"
   ],
   "metadata": {
    "collapsed": false,
    "pycharm": {
     "name": "#%%\n"
    }
   }
  },
  {
   "cell_type": "code",
   "execution_count": 21,
   "outputs": [
    {
     "data": {
      "text/plain": "array([[ 2386,    18],\n       [ 2486,    19],\n       [ 2586,    20],\n       [ 2686,    20],\n       [ 2756,    20],\n       [ 2896,    20],\n       [ 2500,    20],\n       [ 2400,    20],\n       [ 2300,    20],\n       [ 2679,    20],\n       [ 2156,    20],\n       [ 2641,    20],\n       [ 2696,    21],\n       [ 2519,    21],\n       [ 2631,    21],\n       [ 2596,    21],\n       [ 2563,    21],\n       [ 2612,    21],\n       [ 2505,    21],\n       [ 2690,    21],\n       [ 2662,    21],\n       [ 2748,    22],\n       [ 2600,    22],\n       [ 2638,    22],\n       [ 2676,    22],\n       [ 2604,    22],\n       [ 2670,    22],\n       [ 2600,    22],\n       [ 2718,    22],\n       [ 2720,    23],\n       [ 2740,    23],\n       [ 2716,    23],\n       [ 2700,    23],\n       [ 2761,    23],\n       [ 2779,    24],\n       [ 2759,    24],\n       [ 2755,    24],\n       [ 2758,    24],\n       [ 2799,    24],\n       [ 2732,    24],\n       [ 2766,    24],\n       [ 2718,    24],\n       [ 2763,    24],\n       [ 2960,    25],\n       [ 2893,    25],\n       [ 2995,    25],\n       [ 2862,    25],\n       [ 2841,    25],\n       [ 2847,    25],\n       [ 2969,    25],\n       [ 2821,    25],\n       [ 2825,    25],\n       [ 2992,    25],\n       [ 2875,    25],\n       [ 2948,    25],\n       [ 2976,    25],\n       [ 2817,    25],\n       [ 2884,    25],\n       [ 2913,    26],\n       [ 2917,    26],\n       [ 2824,    26],\n       [ 2868,    26],\n       [ 2903,    26],\n       [ 2875,    27],\n       [ 2937,    27],\n       [ 2812,    27],\n       [ 2821,    27],\n       [ 2831,    27],\n       [ 2928,    27],\n       [ 3336,    27],\n       [ 3231,    28],\n       [ 3395,    28],\n       [ 3430,    28],\n       [ 3196,    28],\n       [ 3191,    28],\n       [ 3280,    28],\n       [ 3005,    28],\n       [ 2913,    28],\n       [ 3112,    28],\n       [ 3224,    28],\n       [ 3441,    28],\n       [ 3237,    28],\n       [ 3286,    29],\n       [ 3025,    29],\n       [ 3487,    29],\n       [ 3370,    29],\n       [ 3247,    29],\n       [ 3432,    29],\n       [ 3098,    29],\n       [ 3228,    29],\n       [ 3114,    29],\n       [ 2979,    30],\n       [ 2918,    30],\n       [ 3403,    30],\n       [ 3108,    30],\n       [ 3176,    30],\n       [ 3012,    30],\n       [ 2923,    30],\n       [ 3437,    30],\n       [ 3328,    31],\n       [ 3166,    31],\n       [ 3067,    31],\n       [ 3392,    31],\n       [ 3174,    31],\n       [ 3337,    31],\n       [ 3403,    31],\n       [ 3489,    31],\n       [ 3355,    31],\n       [ 3593,    31],\n       [ 3140,    31],\n       [ 3285,    31],\n       [ 3111,    32],\n       [ 3131,    32],\n       [ 3324,    32],\n       [ 3556,    32],\n       [ 3276,    32],\n       [ 3195,    32],\n       [ 3217,    32],\n       [ 3353,    32],\n       [ 3571,    32],\n       [ 3624,    32],\n       [ 3577,    32],\n       [ 3781,    32],\n       [ 3602,    32],\n       [ 3666,    32],\n       [ 3727,    33],\n       [ 3703,    33],\n       [ 3601,    33],\n       [ 3746,    33],\n       [ 3353,    33],\n       [ 3435,    33],\n       [ 3501,    33],\n       [ 3748,    33],\n       [ 3340,    34],\n       [ 3434,    34],\n       [ 3437,    34],\n       [ 3440,    34],\n       [ 3531,    34],\n       [ 3641,    34],\n       [ 4054,    34],\n       [ 4426,    34],\n       [ 4373,    35],\n       [ 4485,    35],\n       [ 4365,    35],\n       [ 3748,    35],\n       [ 4191,    35],\n       [ 3513,    35],\n       [ 4113,    35],\n       [ 3889,    35],\n       [ 3973,    35],\n       [ 4114,    35],\n       [ 4131,    35],\n       [ 4244,    35],\n       [ 3525,    35],\n       [ 3563,    36],\n       [ 4198,    36],\n       [ 4107,    36],\n       [ 3504,    36],\n       [ 4355,    36],\n       [ 4366,    36],\n       [ 3774,    36],\n       [ 3665,    36],\n       [ 4478,    36],\n       [ 3599,    36],\n       [ 4000,    36],\n       [ 4207,    37],\n       [ 3854,    37],\n       [ 4128,    37],\n       [ 3948,    37],\n       [ 4198,    37],\n       [ 3831,    37],\n       [ 3729,    37],\n       [ 4406,    37],\n       [ 3617,    37],\n       [ 4328,    37],\n       [ 4458,    38],\n       [ 4278,    38],\n       [ 4074,    38],\n       [ 3628,    38],\n       [ 3858,    38],\n       [ 3908,    38],\n       [ 4006,    38],\n       [ 3519,    38],\n       [ 3911,    38],\n       [ 4038,    39],\n       [ 4479,    39],\n       [ 3663,    39],\n       [ 3681,    39],\n       [ 3511,    39],\n       [ 3795,    39],\n       [ 4200,    39],\n       [ 4223,    39],\n       [ 4441,    40],\n       [ 3798,    40],\n       [ 3832,    40],\n       [ 4386,    40],\n       [ 4110,    40],\n       [ 4283,    40],\n       [ 4133,    40],\n       [ 4493,    40],\n       [ 3552,    40],\n       [ 5333,    41],\n       [ 5144,    41],\n       [ 5346,    41],\n       [ 4624,    41],\n       [ 5482,    41],\n       [ 5433,    41],\n       [ 4602,    41],\n       [ 4968,    41],\n       [ 5110,    42],\n       [ 5175,    42],\n       [ 4769,    42],\n       [ 5292,    43],\n       [ 5016,    43],\n       [ 5348,    43],\n       [ 5346,    43],\n       [ 5229,    43],\n       [ 4932,    43],\n       [ 4970,    43],\n       [ 4829,    43],\n       [ 5393,    43],\n       [ 4824,    43],\n       [ 5138,    44],\n       [ 5351,    44],\n       [ 5164,    44],\n       [ 5438,    44],\n       [ 5233,    44],\n       [ 5448,    44],\n       [ 4663,    44],\n       [ 5409,    44],\n       [ 5350,    45],\n       [ 4974,    45],\n       [ 5464,    45],\n       [ 4894,    45],\n       [ 5466,    45],\n       [ 5362,    45],\n       [ 4773,    45],\n       [ 5138,    45],\n       [ 4969,    45],\n       [ 5006,    46],\n       [ 4819,    46],\n       [ 4502,    46],\n       [ 5355,    46],\n       [ 5225,    46],\n       [ 4840,    46],\n       [ 5074,    46],\n       [ 4796,    46],\n       [ 5291,    46],\n       [ 5157,    46],\n       [ 5357,    46],\n       [ 5207,    46],\n       [ 5456,    47],\n       [ 4517,    47],\n       [ 5303,    47],\n       [ 4766,    47],\n       [ 4935,    47],\n       [ 4531,    47],\n       [ 5486,    47],\n       [ 5147,    47],\n       [ 5160,    47],\n       [ 4751,    47],\n       [ 4937,    47],\n       [ 4505,    47],\n       [ 4877,    47],\n       [ 5216,    48],\n       [ 5338,    48],\n       [ 5235,    48],\n       [ 5443,    48],\n       [ 5263,    48],\n       [ 5089,    48],\n       [ 5253,    48],\n       [ 4667,    48],\n       [ 5200,    48],\n       [ 5145,    48],\n       [ 5306,    48],\n       [ 4723,    48],\n       [ 4957,    49],\n       [ 5176,    49],\n       [ 5496,    49],\n       [ 5156,    49],\n       [ 4900,    49],\n       [ 5452,    49],\n       [ 5344,    49],\n       [ 5312,    49],\n       [ 4656,    49],\n       [ 5370,    49],\n       [ 4956,    49],\n       [ 5028,    49],\n       [ 4553,    50],\n       [ 5337,    50],\n       [ 4545,    50],\n       [ 5201,    50],\n       [ 5131,    50],\n       [ 5259,    50],\n       [ 5222,    50],\n       [ 4630,    50],\n       [ 4680,    50],\n       [ 5015,    50],\n       [ 6798,    50],\n       [ 7582,    50],\n       [ 7453,    50],\n       [ 6435,    51],\n       [ 6709,    51],\n       [ 7118,    51],\n       [ 6753,    51],\n       [ 7925,    51],\n       [ 7837,    51],\n       [ 7464,    51],\n       [ 6580,    51],\n       [ 7719,    51],\n       [ 6101,    51],\n       [ 7928,    52],\n       [ 6300,    52],\n       [ 7532,    52],\n       [ 6638,    52],\n       [ 6696,    52],\n       [ 6276,    52],\n       [13397,    52],\n       [ 7743,    52],\n       [14312,    52],\n       [13523,    52],\n       [ 7468,    52],\n       [11727,    52],\n       [10644,    53],\n       [12352,    53],\n       [12333,    53],\n       [14285,    53],\n       [14494,    53],\n       [ 9210,    53],\n       [10264,    53],\n       [ 7523,    53],\n       [11654,    53],\n       [ 9610,    53],\n       [ 8724,    54],\n       [13494,    54],\n       [10177,    54],\n       [ 9353,    54],\n       [10896,    54],\n       [11354,    54],\n       [ 7969,    54],\n       [13018,    54],\n       [13776,    54],\n       [12979,    54],\n       [11621,    54],\n       [ 7958,    54],\n       [11382,    54],\n       [10141,    54],\n       [10510,    55],\n       [13992,    55],\n       [ 7306,    55],\n       [11781,    55],\n       [11795,    55],\n       [13522,    55],\n       [14975,    55],\n       [ 8124,    55],\n       [14392,    56],\n       [ 9523,    56],\n       [ 7045,    56],\n       [12337,    56],\n       [12011,    56],\n       [ 9210,    56],\n       [14521,    56],\n       [12596,    56],\n       [11291,    56],\n       [12371,    56],\n       [10187,    56],\n       [12375,    57],\n       [12577,    57],\n       [ 7664,    57],\n       [13317,    57],\n       [ 9167,    57],\n       [10731,    57],\n       [13272,    57],\n       [ 9050,    57],\n       [ 7179,    58],\n       [10667,    58],\n       [12964,    58],\n       [14067,    58],\n       [12650,    58],\n       [10440,    59],\n       [11692,    59],\n       [ 7094,    59],\n       [11043,    59],\n       [11433,    59],\n       [ 8206,    59],\n       [14145,    59],\n       [ 7955,    60],\n       [ 9316,    60],\n       [ 7863,    60],\n       [14914,    60],\n       [12829,    60],\n       [ 8605,    60],\n       [14570,    60],\n       [ 9687,    60],\n       [11893,    60],\n       [12557,    60],\n       [14270,    60],\n       [10262,    60],\n       [ 7782,    60],\n       [11186,    60]])"
     },
     "execution_count": 21,
     "metadata": {},
     "output_type": "execute_result"
    }
   ],
   "source": [
    "x=transit.iloc[:,:-1].values\n",
    "x"
   ],
   "metadata": {
    "collapsed": false,
    "pycharm": {
     "name": "#%%\n"
    }
   }
  },
  {
   "cell_type": "code",
   "execution_count": 22,
   "outputs": [
    {
     "data": {
      "text/plain": "array([0, 0, 0, 0, 0, 0, 0, 0, 0, 0, 0, 0, 0, 0, 0, 0, 0, 0, 0, 0, 0, 0,\n       0, 0, 0, 0, 0, 0, 0, 0, 0, 0, 0, 0, 0, 0, 0, 0, 0, 0, 0, 0, 0, 0,\n       0, 0, 0, 0, 0, 0, 0, 0, 0, 0, 0, 0, 0, 0, 0, 0, 0, 0, 0, 0, 0, 0,\n       0, 0, 0, 0, 0, 0, 0, 0, 0, 0, 0, 0, 0, 0, 0, 0, 0, 0, 0, 0, 0, 0,\n       0, 0, 0, 0, 0, 0, 0, 0, 0, 0, 0, 0, 0, 0, 0, 0, 0, 1, 0, 0, 0, 0,\n       0, 0, 0, 0, 0, 0, 0, 0, 0, 0, 0, 0, 0, 0, 0, 0, 0, 0, 0, 0, 0, 1,\n       0, 0, 0, 1, 0, 0, 0, 0, 0, 0, 0, 0, 0, 0, 0, 0, 0, 0, 0, 1, 0, 0,\n       1, 0, 0, 0, 1, 0, 0, 0, 0, 0, 0, 0, 0, 0, 0, 0, 0, 0, 0, 0, 0, 1,\n       0, 0, 0, 0, 0, 0, 0, 0, 0, 1, 0, 0, 1, 1, 1, 1, 1, 1, 1, 1, 1, 0,\n       1, 1, 0, 0, 0, 1, 0, 1, 0, 1, 1, 1, 1, 1, 1, 1, 1, 1, 1, 1, 1, 1,\n       1, 1, 1, 1, 1, 1, 1, 1, 1, 1, 1, 1, 1, 1, 1, 1, 1, 1, 1, 0, 1, 1,\n       1, 1, 1, 1, 1, 1, 1, 1, 1, 1, 1, 1, 1, 1, 1, 1, 1, 1, 1, 1, 1, 1,\n       1, 1, 1, 1, 1, 1, 1, 1, 1, 1, 1, 1, 1, 1, 1, 1, 1, 0, 1, 1, 1, 1,\n       1, 1, 1, 1, 1, 1, 1, 1, 1, 1, 1, 1, 1, 1, 1, 1, 0, 1, 1, 1, 1, 1,\n       1, 1, 1, 1, 1, 1, 1, 1, 1, 1, 1, 1, 1, 1, 1, 1, 1, 1, 1, 1, 0, 1,\n       1, 1, 1, 1, 1, 1, 1, 1, 1, 1, 1, 1, 1, 1, 1, 1, 1, 1, 1, 1, 1, 1,\n       1, 1, 1, 1, 1, 1, 1, 1, 1, 1, 1, 1, 1, 1, 1, 1, 1, 1, 0, 1, 1, 1,\n       0, 1, 1, 1, 1, 1, 1, 1, 1, 1, 1, 1, 1, 1, 1, 1, 1, 1, 1, 0, 1, 1,\n       1, 1, 0, 1])"
     },
     "execution_count": 22,
     "metadata": {},
     "output_type": "execute_result"
    }
   ],
   "source": [
    "y = transit.iloc[:,-1].values\n",
    "y"
   ],
   "metadata": {
    "collapsed": false,
    "pycharm": {
     "name": "#%%\n"
    }
   }
  },
  {
   "cell_type": "code",
   "execution_count": 23,
   "outputs": [],
   "source": [
    "from sklearn.model_selection import train_test_split\n",
    "x_train, x_test, y_train, y_test = train_test_split(x,y, test_size=0.2, random_state=0)"
   ],
   "metadata": {
    "collapsed": false,
    "pycharm": {
     "name": "#%%\n"
    }
   }
  },
  {
   "cell_type": "code",
   "execution_count": 24,
   "outputs": [],
   "source": [
    "from sklearn.preprocessing import StandardScaler\n",
    "sc_x = StandardScaler()\n",
    "x_train = sc_x.fit_transform(x_train)\n",
    "\n",
    "x_test = sc_x.transform(x_test)"
   ],
   "metadata": {
    "collapsed": false,
    "pycharm": {
     "name": "#%%\n"
    }
   }
  },
  {
   "cell_type": "code",
   "execution_count": 25,
   "outputs": [
    {
     "data": {
      "text/plain": "GaussianNB()"
     },
     "execution_count": 25,
     "metadata": {},
     "output_type": "execute_result"
    }
   ],
   "source": [
    "from sklearn.naive_bayes import GaussianNB\n",
    "classifier = GaussianNB()\n",
    "classifier.fit(x_train, y_train)"
   ],
   "metadata": {
    "collapsed": false,
    "pycharm": {
     "name": "#%%\n"
    }
   }
  },
  {
   "cell_type": "code",
   "execution_count": 26,
   "outputs": [],
   "source": [
    "y_pred = classifier.predict(x_test)"
   ],
   "metadata": {
    "collapsed": false,
    "pycharm": {
     "name": "#%%\n"
    }
   }
  },
  {
   "cell_type": "code",
   "execution_count": 27,
   "outputs": [
    {
     "data": {
      "text/plain": "(array([0, 1, 1, 1, 1, 0, 0, 1, 0, 1, 0, 0, 0, 1, 0, 0, 1, 0, 0, 1, 0, 1,\n        0, 1, 1, 1, 0, 0, 1, 0, 0, 1, 1, 1, 0, 0, 0, 0, 0, 1, 0, 1, 0, 0,\n        1, 0, 0, 1, 1, 1, 1, 0, 1, 0, 1, 1, 0, 0, 0, 0, 0, 1, 0, 1, 1, 1,\n        0, 0, 1, 1, 0, 1, 0, 0, 0, 0, 1, 1, 1, 1]),\n array([0, 1, 1, 0, 1, 0, 0, 1, 0, 1, 0, 0, 0, 1, 0, 0, 1, 0, 1, 0, 0, 1,\n        0, 1, 0, 1, 0, 0, 1, 0, 0, 1, 1, 1, 0, 0, 0, 0, 0, 1, 0, 1, 0, 0,\n        1, 0, 1, 1, 0, 1, 1, 0, 1, 0, 1, 1, 0, 0, 0, 0, 0, 1, 0, 1, 0, 1,\n        0, 0, 0, 1, 0, 1, 0, 0, 0, 0, 1, 1, 1, 1]))"
     },
     "execution_count": 27,
     "metadata": {},
     "output_type": "execute_result"
    }
   ],
   "source": [
    "y_test, y_pred"
   ],
   "metadata": {
    "collapsed": false,
    "pycharm": {
     "name": "#%%\n"
    }
   }
  },
  {
   "cell_type": "code",
   "execution_count": 28,
   "outputs": [
    {
     "data": {
      "text/plain": "array([[40,  2],\n       [ 6, 32]])"
     },
     "execution_count": 28,
     "metadata": {},
     "output_type": "execute_result"
    }
   ],
   "source": [
    "from sklearn.metrics import confusion_matrix\n",
    "cm = confusion_matrix(y_test, y_pred)\n",
    "cm"
   ],
   "metadata": {
    "collapsed": false,
    "pycharm": {
     "name": "#%%\n"
    }
   }
  },
  {
   "cell_type": "code",
   "execution_count": 29,
   "outputs": [
    {
     "data": {
      "text/plain": "array([[ 0.10412149, -0.49974943]])"
     },
     "execution_count": 29,
     "metadata": {},
     "output_type": "execute_result"
    }
   ],
   "source": [
    "xP = sc_x.transform([[6000,35]])\n",
    "xP"
   ],
   "metadata": {
    "collapsed": false,
    "pycharm": {
     "name": "#%%\n"
    }
   }
  },
  {
   "cell_type": "code",
   "execution_count": 30,
   "outputs": [
    {
     "data": {
      "text/plain": "array([0])"
     },
     "execution_count": 30,
     "metadata": {},
     "output_type": "execute_result"
    }
   ],
   "source": [
    "prediction = classifier.predict(xP)\n",
    "prediction"
   ],
   "metadata": {
    "collapsed": false,
    "pycharm": {
     "name": "#%%\n"
    }
   }
  },
  {
   "cell_type": "code",
   "execution_count": null,
   "outputs": [],
   "source": [],
   "metadata": {
    "collapsed": false,
    "pycharm": {
     "name": "#%%\n"
    }
   }
  }
 ],
 "metadata": {
  "kernelspec": {
   "display_name": "Python 3",
   "language": "python",
   "name": "python3"
  },
  "language_info": {
   "codemirror_mode": {
    "name": "ipython",
    "version": 2
   },
   "file_extension": ".py",
   "mimetype": "text/x-python",
   "name": "python",
   "nbconvert_exporter": "python",
   "pygments_lexer": "ipython2",
   "version": "2.7.6"
  }
 },
 "nbformat": 4,
 "nbformat_minor": 0
}