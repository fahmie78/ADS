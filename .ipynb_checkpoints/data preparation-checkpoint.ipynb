{
 "cells": [
  {
   "cell_type": "code",
   "execution_count": 3,
   "metadata": {
    "collapsed": true
   },
   "outputs": [],
   "source": [
    "import pandas as pd\n",
    "import matplotlib.pyplot as plt\n",
    "import numpy as np"
   ]
  },
  {
   "cell_type": "code",
   "execution_count": 2,
   "metadata": {
    "pycharm": {
     "name": "#%%\n"
    }
   },
   "outputs": [
    {
     "data": {
      "text/html": [
       "<div>\n",
       "<style scoped>\n",
       "    .dataframe tbody tr th:only-of-type {\n",
       "        vertical-align: middle;\n",
       "    }\n",
       "\n",
       "    .dataframe tbody tr th {\n",
       "        vertical-align: top;\n",
       "    }\n",
       "\n",
       "    .dataframe thead th {\n",
       "        text-align: right;\n",
       "    }\n",
       "</style>\n",
       "<table border=\"1\" class=\"dataframe\">\n",
       "  <thead>\n",
       "    <tr style=\"text-align: right;\">\n",
       "      <th></th>\n",
       "      <th>country</th>\n",
       "      <th>Age</th>\n",
       "      <th>Weight</th>\n",
       "      <th>Sleep before 10pm</th>\n",
       "    </tr>\n",
       "  </thead>\n",
       "  <tbody>\n",
       "    <tr>\n",
       "      <th>0</th>\n",
       "      <td>China</td>\n",
       "      <td>39</td>\n",
       "      <td>33</td>\n",
       "      <td>True</td>\n",
       "    </tr>\n",
       "    <tr>\n",
       "      <th>1</th>\n",
       "      <td>Philippines</td>\n",
       "      <td>49</td>\n",
       "      <td>47</td>\n",
       "      <td>False</td>\n",
       "    </tr>\n",
       "    <tr>\n",
       "      <th>2</th>\n",
       "      <td>China</td>\n",
       "      <td>44</td>\n",
       "      <td>39</td>\n",
       "      <td>False</td>\n",
       "    </tr>\n",
       "    <tr>\n",
       "      <th>3</th>\n",
       "      <td>China</td>\n",
       "      <td>39</td>\n",
       "      <td>78</td>\n",
       "      <td>False</td>\n",
       "    </tr>\n",
       "    <tr>\n",
       "      <th>4</th>\n",
       "      <td>China</td>\n",
       "      <td>29</td>\n",
       "      <td>36</td>\n",
       "      <td>False</td>\n",
       "    </tr>\n",
       "    <tr>\n",
       "      <th>...</th>\n",
       "      <td>...</td>\n",
       "      <td>...</td>\n",
       "      <td>...</td>\n",
       "      <td>...</td>\n",
       "    </tr>\n",
       "    <tr>\n",
       "      <th>95</th>\n",
       "      <td>China</td>\n",
       "      <td>22</td>\n",
       "      <td>111</td>\n",
       "      <td>True</td>\n",
       "    </tr>\n",
       "    <tr>\n",
       "      <th>96</th>\n",
       "      <td>China</td>\n",
       "      <td>44</td>\n",
       "      <td>114</td>\n",
       "      <td>False</td>\n",
       "    </tr>\n",
       "    <tr>\n",
       "      <th>97</th>\n",
       "      <td>China</td>\n",
       "      <td>28</td>\n",
       "      <td>50</td>\n",
       "      <td>True</td>\n",
       "    </tr>\n",
       "    <tr>\n",
       "      <th>98</th>\n",
       "      <td>China</td>\n",
       "      <td>21</td>\n",
       "      <td>86</td>\n",
       "      <td>True</td>\n",
       "    </tr>\n",
       "    <tr>\n",
       "      <th>99</th>\n",
       "      <td>Philippines</td>\n",
       "      <td>41</td>\n",
       "      <td>88</td>\n",
       "      <td>True</td>\n",
       "    </tr>\n",
       "  </tbody>\n",
       "</table>\n",
       "<p>100 rows × 4 columns</p>\n",
       "</div>"
      ],
      "text/plain": [
       "        country  Age  Weight  Sleep before 10pm\n",
       "0         China   39      33               True\n",
       "1   Philippines   49      47              False\n",
       "2         China   44      39              False\n",
       "3         China   39      78              False\n",
       "4         China   29      36              False\n",
       "..          ...  ...     ...                ...\n",
       "95        China   22     111               True\n",
       "96        China   44     114              False\n",
       "97        China   28      50               True\n",
       "98        China   21      86               True\n",
       "99  Philippines   41      88               True\n",
       "\n",
       "[100 rows x 4 columns]"
      ]
     },
     "execution_count": 2,
     "metadata": {},
     "output_type": "execute_result"
    }
   ],
   "source": [
    "dataset = pd.read_csv('Dataset/100_initial.csv')\n",
    "dataset"
   ]
  },
  {
   "cell_type": "code",
   "execution_count": 4,
   "metadata": {
    "pycharm": {
     "name": "#%%\n"
    }
   },
   "outputs": [
    {
     "data": {
      "text/plain": [
       "(100, 4)"
      ]
     },
     "execution_count": 4,
     "metadata": {},
     "output_type": "execute_result"
    }
   ],
   "source": [
    "dataset.shape"
   ]
  },
  {
   "cell_type": "code",
   "execution_count": 5,
   "metadata": {
    "pycharm": {
     "name": "#%%\n"
    }
   },
   "outputs": [
    {
     "data": {
      "text/html": [
       "<div>\n",
       "<style scoped>\n",
       "    .dataframe tbody tr th:only-of-type {\n",
       "        vertical-align: middle;\n",
       "    }\n",
       "\n",
       "    .dataframe tbody tr th {\n",
       "        vertical-align: top;\n",
       "    }\n",
       "\n",
       "    .dataframe thead th {\n",
       "        text-align: right;\n",
       "    }\n",
       "</style>\n",
       "<table border=\"1\" class=\"dataframe\">\n",
       "  <thead>\n",
       "    <tr style=\"text-align: right;\">\n",
       "      <th></th>\n",
       "      <th>Age</th>\n",
       "      <th>Weight</th>\n",
       "    </tr>\n",
       "  </thead>\n",
       "  <tbody>\n",
       "    <tr>\n",
       "      <th>count</th>\n",
       "      <td>100.000000</td>\n",
       "      <td>100.000000</td>\n",
       "    </tr>\n",
       "    <tr>\n",
       "      <th>mean</th>\n",
       "      <td>32.760000</td>\n",
       "      <td>69.310000</td>\n",
       "    </tr>\n",
       "    <tr>\n",
       "      <th>std</th>\n",
       "      <td>9.672537</td>\n",
       "      <td>26.780324</td>\n",
       "    </tr>\n",
       "    <tr>\n",
       "      <th>min</th>\n",
       "      <td>18.000000</td>\n",
       "      <td>31.000000</td>\n",
       "    </tr>\n",
       "    <tr>\n",
       "      <th>25%</th>\n",
       "      <td>24.000000</td>\n",
       "      <td>45.750000</td>\n",
       "    </tr>\n",
       "    <tr>\n",
       "      <th>50%</th>\n",
       "      <td>33.000000</td>\n",
       "      <td>65.500000</td>\n",
       "    </tr>\n",
       "    <tr>\n",
       "      <th>75%</th>\n",
       "      <td>41.000000</td>\n",
       "      <td>91.250000</td>\n",
       "    </tr>\n",
       "    <tr>\n",
       "      <th>max</th>\n",
       "      <td>50.000000</td>\n",
       "      <td>120.000000</td>\n",
       "    </tr>\n",
       "  </tbody>\n",
       "</table>\n",
       "</div>"
      ],
      "text/plain": [
       "              Age      Weight\n",
       "count  100.000000  100.000000\n",
       "mean    32.760000   69.310000\n",
       "std      9.672537   26.780324\n",
       "min     18.000000   31.000000\n",
       "25%     24.000000   45.750000\n",
       "50%     33.000000   65.500000\n",
       "75%     41.000000   91.250000\n",
       "max     50.000000  120.000000"
      ]
     },
     "execution_count": 5,
     "metadata": {},
     "output_type": "execute_result"
    }
   ],
   "source": [
    "dataset.describe()"
   ]
  },
  {
   "cell_type": "code",
   "execution_count": 9,
   "metadata": {
    "pycharm": {
     "name": "#%%\n"
    }
   },
   "outputs": [
    {
     "name": "stdout",
     "output_type": "stream",
     "text": [
      "<class 'pandas.core.frame.DataFrame'>\n",
      "RangeIndex: 100 entries, 0 to 99\n",
      "Data columns (total 4 columns):\n",
      " #   Column             Non-Null Count  Dtype \n",
      "---  ------             --------------  ----- \n",
      " 0   country            100 non-null    object\n",
      " 1   Age                100 non-null    int64 \n",
      " 2   Weight             100 non-null    int64 \n",
      " 3   Sleep before 10pm  100 non-null    bool  \n",
      "dtypes: bool(1), int64(2), object(1)\n",
      "memory usage: 2.6+ KB\n"
     ]
    }
   ],
   "source": [
    "dataset.info()"
   ]
  },
  {
   "cell_type": "code",
   "execution_count": 15,
   "metadata": {
    "pycharm": {
     "name": "#%%\n"
    }
   },
   "outputs": [
    {
     "data": {
      "text/plain": [
       "array([['China', 39, 33],\n",
       "       ['Philippines', 49, 47],\n",
       "       ['China', 44, 39],\n",
       "       ['China', 39, 78],\n",
       "       ['China', 29, 36],\n",
       "       ['Indonesia', 34, 93],\n",
       "       ['Philippines', 33, 57],\n",
       "       ['Philippines', 26, 31],\n",
       "       ['China', 33, 35],\n",
       "       ['China', 41, 40],\n",
       "       ['China', 35, 66],\n",
       "       ['Indonesia', 39, 116],\n",
       "       ['Indonesia', 19, 44],\n",
       "       ['China', 46, 50],\n",
       "       ['China', 19, 91],\n",
       "       ['China', 24, 36],\n",
       "       ['China', 41, 113],\n",
       "       ['Indonesia', 23, 89],\n",
       "       ['Indonesia', 21, 90],\n",
       "       ['China', 28, 50],\n",
       "       ['Indonesia', 37, 93],\n",
       "       ['China', 27, 38],\n",
       "       ['China', 19, 65],\n",
       "       ['China', 20, 105],\n",
       "       ['Indonesia', 23, 91],\n",
       "       ['China', 43, 57],\n",
       "       ['Philippines', 19, 84],\n",
       "       ['China', 34, 39],\n",
       "       ['Indonesia', 24, 32],\n",
       "       ['Philippines', 27, 79],\n",
       "       ['China', 48, 92],\n",
       "       ['China', 37, 78],\n",
       "       ['China', 18, 35],\n",
       "       ['China', 41, 91],\n",
       "       ['Indonesia', 32, 44],\n",
       "       ['China', 19, 96],\n",
       "       ['China', 27, 101],\n",
       "       ['China', 26, 39],\n",
       "       ['China', 29, 39],\n",
       "       ['Philippines', 27, 43],\n",
       "       ['China', 37, 34],\n",
       "       ['China', 46, 85],\n",
       "       ['China', 21, 64],\n",
       "       ['Indonesia', 33, 82],\n",
       "       ['China', 18, 71],\n",
       "       ['China', 24, 50],\n",
       "       ['China', 41, 92],\n",
       "       ['Philippines', 36, 53],\n",
       "       ['Indonesia', 45, 78],\n",
       "       ['China', 43, 61],\n",
       "       ['Philippines', 34, 60],\n",
       "       ['China', 41, 100],\n",
       "       ['China', 30, 35],\n",
       "       ['Indonesia', 41, 75],\n",
       "       ['Malaysia', 49, 51],\n",
       "       ['Philippines', 40, 52],\n",
       "       ['China', 48, 89],\n",
       "       ['China', 19, 116],\n",
       "       ['Malaysia', 32, 80],\n",
       "       ['Indonesia', 44, 72],\n",
       "       ['Malaysia', 24, 45],\n",
       "       ['Indonesia', 20, 35],\n",
       "       ['China', 44, 61],\n",
       "       ['Philippines', 31, 97],\n",
       "       ['China', 21, 81],\n",
       "       ['Malaysia', 42, 60],\n",
       "       ['China', 48, 115],\n",
       "       ['Indonesia', 28, 58],\n",
       "       ['Philippines', 25, 86],\n",
       "       ['Indonesia', 27, 67],\n",
       "       ['Indonesia', 33, 46],\n",
       "       ['Japan', 27, 85],\n",
       "       ['China', 27, 40],\n",
       "       ['China', 24, 47],\n",
       "       ['China', 26, 50],\n",
       "       ['China', 43, 104],\n",
       "       ['Philippines', 38, 38],\n",
       "       ['Philippines', 50, 47],\n",
       "       ['Indonesia', 21, 112],\n",
       "       ['China', 24, 51],\n",
       "       ['Indonesia', 38, 115],\n",
       "       ['Malaysia', 46, 33],\n",
       "       ['China', 47, 48],\n",
       "       ['China', 43, 93],\n",
       "       ['Philippines', 46, 92],\n",
       "       ['Philippines', 19, 85],\n",
       "       ['Indonesia', 26, 105],\n",
       "       ['China', 30, 33],\n",
       "       ['Philippines', 33, 102],\n",
       "       ['China', 20, 47],\n",
       "       ['China', 37, 107],\n",
       "       ['Indonesia', 44, 120],\n",
       "       ['China', 19, 55],\n",
       "       ['Philippines', 41, 40],\n",
       "       ['China', 47, 107],\n",
       "       ['China', 22, 111],\n",
       "       ['China', 44, 114],\n",
       "       ['China', 28, 50],\n",
       "       ['China', 21, 86],\n",
       "       ['Philippines', 41, 88]], dtype=object)"
      ]
     },
     "execution_count": 15,
     "metadata": {},
     "output_type": "execute_result"
    }
   ],
   "source": [
    "X = dataset.iloc[:,:-1].values\n",
    "X"
   ]
  },
  {
   "cell_type": "code",
   "execution_count": 19,
   "metadata": {
    "pycharm": {
     "name": "#%%\n"
    }
   },
   "outputs": [
    {
     "data": {
      "text/plain": [
       "array([ True, False, False, False, False, False, False,  True,  True,\n",
       "       False, False, False,  True, False, False,  True, False,  True,\n",
       "        True, False,  True,  True, False,  True, False, False, False,\n",
       "        True,  True, False,  True,  True, False, False,  True, False,\n",
       "        True, False, False, False, False, False, False, False, False,\n",
       "       False, False,  True, False,  True, False, False, False, False,\n",
       "        True,  True,  True,  True,  True,  True, False, False, False,\n",
       "        True, False,  True, False,  True, False,  True, False, False,\n",
       "       False, False,  True,  True, False,  True, False, False, False,\n",
       "       False,  True, False, False,  True,  True,  True,  True,  True,\n",
       "       False,  True, False,  True,  True,  True, False,  True,  True,\n",
       "        True])"
      ]
     },
     "execution_count": 19,
     "metadata": {},
     "output_type": "execute_result"
    }
   ],
   "source": [
    "y = dataset.iloc[:,3].values\n",
    "y"
   ]
  },
  {
   "cell_type": "code",
   "execution_count": 20,
   "metadata": {
    "pycharm": {
     "name": "#%%\n"
    }
   },
   "outputs": [
    {
     "data": {
      "text/html": [
       "<div>\n",
       "<style scoped>\n",
       "    .dataframe tbody tr th:only-of-type {\n",
       "        vertical-align: middle;\n",
       "    }\n",
       "\n",
       "    .dataframe tbody tr th {\n",
       "        vertical-align: top;\n",
       "    }\n",
       "\n",
       "    .dataframe thead th {\n",
       "        text-align: right;\n",
       "    }\n",
       "</style>\n",
       "<table border=\"1\" class=\"dataframe\">\n",
       "  <thead>\n",
       "    <tr style=\"text-align: right;\">\n",
       "      <th></th>\n",
       "      <th>country</th>\n",
       "      <th>Age</th>\n",
       "      <th>Weight</th>\n",
       "      <th>Sleep before 10pm</th>\n",
       "    </tr>\n",
       "  </thead>\n",
       "  <tbody>\n",
       "    <tr>\n",
       "      <th>0</th>\n",
       "      <td>China</td>\n",
       "      <td>39.0</td>\n",
       "      <td>33.0</td>\n",
       "      <td>True</td>\n",
       "    </tr>\n",
       "    <tr>\n",
       "      <th>1</th>\n",
       "      <td>Philippines</td>\n",
       "      <td>49.0</td>\n",
       "      <td>47.0</td>\n",
       "      <td>False</td>\n",
       "    </tr>\n",
       "    <tr>\n",
       "      <th>2</th>\n",
       "      <td>China</td>\n",
       "      <td>NaN</td>\n",
       "      <td>39.0</td>\n",
       "      <td>False</td>\n",
       "    </tr>\n",
       "    <tr>\n",
       "      <th>3</th>\n",
       "      <td>China</td>\n",
       "      <td>39.0</td>\n",
       "      <td>78.0</td>\n",
       "      <td>False</td>\n",
       "    </tr>\n",
       "    <tr>\n",
       "      <th>4</th>\n",
       "      <td>China</td>\n",
       "      <td>29.0</td>\n",
       "      <td>NaN</td>\n",
       "      <td>False</td>\n",
       "    </tr>\n",
       "    <tr>\n",
       "      <th>5</th>\n",
       "      <td>Indonesia</td>\n",
       "      <td>34.0</td>\n",
       "      <td>93.0</td>\n",
       "      <td>False</td>\n",
       "    </tr>\n",
       "    <tr>\n",
       "      <th>6</th>\n",
       "      <td>Philippines</td>\n",
       "      <td>33.0</td>\n",
       "      <td>57.0</td>\n",
       "      <td>False</td>\n",
       "    </tr>\n",
       "    <tr>\n",
       "      <th>7</th>\n",
       "      <td>Philippines</td>\n",
       "      <td>26.0</td>\n",
       "      <td>31.0</td>\n",
       "      <td>True</td>\n",
       "    </tr>\n",
       "    <tr>\n",
       "      <th>8</th>\n",
       "      <td>China</td>\n",
       "      <td>NaN</td>\n",
       "      <td>35.0</td>\n",
       "      <td>True</td>\n",
       "    </tr>\n",
       "    <tr>\n",
       "      <th>9</th>\n",
       "      <td>China</td>\n",
       "      <td>41.0</td>\n",
       "      <td>NaN</td>\n",
       "      <td>False</td>\n",
       "    </tr>\n",
       "  </tbody>\n",
       "</table>\n",
       "</div>"
      ],
      "text/plain": [
       "       country   Age  Weight  Sleep before 10pm\n",
       "0        China  39.0    33.0               True\n",
       "1  Philippines  49.0    47.0              False\n",
       "2        China   NaN    39.0              False\n",
       "3        China  39.0    78.0              False\n",
       "4        China  29.0     NaN              False\n",
       "5    Indonesia  34.0    93.0              False\n",
       "6  Philippines  33.0    57.0              False\n",
       "7  Philippines  26.0    31.0               True\n",
       "8        China   NaN    35.0               True\n",
       "9        China  41.0     NaN              False"
      ]
     },
     "execution_count": 20,
     "metadata": {},
     "output_type": "execute_result"
    }
   ],
   "source": [
    "m_data = pd.read_csv('Dataset/10_initial_m.csv')\n",
    "m_data"
   ]
  },
  {
   "cell_type": "code",
   "execution_count": 22,
   "metadata": {
    "pycharm": {
     "name": "#%%\n"
    }
   },
   "outputs": [
    {
     "data": {
      "text/plain": [
       "array([['China', 39.0, 33.0],\n",
       "       ['Philippines', 49.0, 47.0],\n",
       "       ['China', nan, 39.0],\n",
       "       ['China', 39.0, 78.0],\n",
       "       ['China', 29.0, nan],\n",
       "       ['Indonesia', 34.0, 93.0],\n",
       "       ['Philippines', 33.0, 57.0],\n",
       "       ['Philippines', 26.0, 31.0],\n",
       "       ['China', nan, 35.0],\n",
       "       ['China', 41.0, nan]], dtype=object)"
      ]
     },
     "execution_count": 22,
     "metadata": {},
     "output_type": "execute_result"
    }
   ],
   "source": [
    "x = m_data.iloc[:,:3].values\n",
    "x"
   ]
  },
  {
   "cell_type": "code",
   "execution_count": 24,
   "metadata": {
    "pycharm": {
     "name": "#%%\n"
    }
   },
   "outputs": [
    {
     "data": {
      "text/plain": [
       "array([ True, False, False, False, False, False, False,  True,  True,\n",
       "       False])"
      ]
     },
     "execution_count": 24,
     "metadata": {},
     "output_type": "execute_result"
    }
   ],
   "source": [
    "y = m_data.iloc[:, 3].values\n",
    "y"
   ]
  },
  {
   "cell_type": "code",
   "execution_count": 25,
   "metadata": {
    "pycharm": {
     "name": "#%%\n"
    }
   },
   "outputs": [],
   "source": [
    "from sklearn.impute import SimpleImputer"
   ]
  },
  {
   "cell_type": "code",
   "execution_count": 26,
   "metadata": {
    "pycharm": {
     "name": "#%%\n"
    }
   },
   "outputs": [],
   "source": [
    "imputer = SimpleImputer(missing_values=np.nan, strategy='mean')"
   ]
  },
  {
   "cell_type": "code",
   "execution_count": 28,
   "metadata": {
    "pycharm": {
     "name": "#%%\n"
    }
   },
   "outputs": [],
   "source": [
    "imputer = imputer.fit(x[:,1:3])"
   ]
  },
  {
   "cell_type": "code",
   "execution_count": 29,
   "metadata": {
    "pycharm": {
     "name": "#%%\n"
    }
   },
   "outputs": [
    {
     "data": {
      "text/plain": [
       "array([['China', 39.0, 33.0],\n",
       "       ['Philippines', 49.0, 47.0],\n",
       "       ['China', 36.25, 39.0],\n",
       "       ['China', 39.0, 78.0],\n",
       "       ['China', 29.0, 51.625],\n",
       "       ['Indonesia', 34.0, 93.0],\n",
       "       ['Philippines', 33.0, 57.0],\n",
       "       ['Philippines', 26.0, 31.0],\n",
       "       ['China', 36.25, 35.0],\n",
       "       ['China', 41.0, 51.625]], dtype=object)"
      ]
     },
     "execution_count": 29,
     "metadata": {},
     "output_type": "execute_result"
    }
   ],
   "source": [
    "x[:,1:3] = imputer.transform(x[:,1:3])\n",
    "x"
   ]
  },
  {
   "cell_type": "code",
   "execution_count": 39,
   "metadata": {
    "pycharm": {
     "name": "#%%\n"
    }
   },
   "outputs": [
    {
     "data": {
      "text/html": [
       "<div>\n",
       "<style scoped>\n",
       "    .dataframe tbody tr th:only-of-type {\n",
       "        vertical-align: middle;\n",
       "    }\n",
       "\n",
       "    .dataframe tbody tr th {\n",
       "        vertical-align: top;\n",
       "    }\n",
       "\n",
       "    .dataframe thead th {\n",
       "        text-align: right;\n",
       "    }\n",
       "</style>\n",
       "<table border=\"1\" class=\"dataframe\">\n",
       "  <thead>\n",
       "    <tr style=\"text-align: right;\">\n",
       "      <th></th>\n",
       "      <th>country</th>\n",
       "      <th>Age</th>\n",
       "      <th>Weight</th>\n",
       "      <th>Sleep before 10pm</th>\n",
       "    </tr>\n",
       "  </thead>\n",
       "  <tbody>\n",
       "    <tr>\n",
       "      <th>0</th>\n",
       "      <td>China</td>\n",
       "      <td>39.0</td>\n",
       "      <td>33.0</td>\n",
       "      <td>True</td>\n",
       "    </tr>\n",
       "    <tr>\n",
       "      <th>1</th>\n",
       "      <td>Philippines</td>\n",
       "      <td>49.0</td>\n",
       "      <td>47.0</td>\n",
       "      <td>False</td>\n",
       "    </tr>\n",
       "    <tr>\n",
       "      <th>2</th>\n",
       "      <td>China</td>\n",
       "      <td>36.25</td>\n",
       "      <td>39.0</td>\n",
       "      <td>False</td>\n",
       "    </tr>\n",
       "    <tr>\n",
       "      <th>3</th>\n",
       "      <td>China</td>\n",
       "      <td>39.0</td>\n",
       "      <td>78.0</td>\n",
       "      <td>False</td>\n",
       "    </tr>\n",
       "    <tr>\n",
       "      <th>4</th>\n",
       "      <td>China</td>\n",
       "      <td>29.0</td>\n",
       "      <td>NaN</td>\n",
       "      <td>False</td>\n",
       "    </tr>\n",
       "    <tr>\n",
       "      <th>5</th>\n",
       "      <td>Indonesia</td>\n",
       "      <td>34.0</td>\n",
       "      <td>93.0</td>\n",
       "      <td>False</td>\n",
       "    </tr>\n",
       "    <tr>\n",
       "      <th>6</th>\n",
       "      <td>Philippines</td>\n",
       "      <td>33.0</td>\n",
       "      <td>57.0</td>\n",
       "      <td>False</td>\n",
       "    </tr>\n",
       "    <tr>\n",
       "      <th>7</th>\n",
       "      <td>Philippines</td>\n",
       "      <td>26.0</td>\n",
       "      <td>31.0</td>\n",
       "      <td>True</td>\n",
       "    </tr>\n",
       "    <tr>\n",
       "      <th>8</th>\n",
       "      <td>China</td>\n",
       "      <td>36.25</td>\n",
       "      <td>35.0</td>\n",
       "      <td>True</td>\n",
       "    </tr>\n",
       "    <tr>\n",
       "      <th>9</th>\n",
       "      <td>China</td>\n",
       "      <td>41.0</td>\n",
       "      <td>NaN</td>\n",
       "      <td>False</td>\n",
       "    </tr>\n",
       "  </tbody>\n",
       "</table>\n",
       "</div>"
      ],
      "text/plain": [
       "       country    Age  Weight  Sleep before 10pm\n",
       "0        China   39.0    33.0               True\n",
       "1  Philippines   49.0    47.0              False\n",
       "2        China  36.25    39.0              False\n",
       "3        China   39.0    78.0              False\n",
       "4        China   29.0     NaN              False\n",
       "5    Indonesia   34.0    93.0              False\n",
       "6  Philippines   33.0    57.0              False\n",
       "7  Philippines   26.0    31.0               True\n",
       "8        China  36.25    35.0               True\n",
       "9        China   41.0     NaN              False"
      ]
     },
     "execution_count": 39,
     "metadata": {},
     "output_type": "execute_result"
    }
   ],
   "source": [
    "m_data['Age'] = x[:,1]\n",
    "m_data"
   ]
  },
  {
   "cell_type": "code",
   "execution_count": 40,
   "metadata": {
    "pycharm": {
     "name": "#%%\n"
    }
   },
   "outputs": [
    {
     "data": {
      "text/html": [
       "<div>\n",
       "<style scoped>\n",
       "    .dataframe tbody tr th:only-of-type {\n",
       "        vertical-align: middle;\n",
       "    }\n",
       "\n",
       "    .dataframe tbody tr th {\n",
       "        vertical-align: top;\n",
       "    }\n",
       "\n",
       "    .dataframe thead th {\n",
       "        text-align: right;\n",
       "    }\n",
       "</style>\n",
       "<table border=\"1\" class=\"dataframe\">\n",
       "  <thead>\n",
       "    <tr style=\"text-align: right;\">\n",
       "      <th></th>\n",
       "      <th>country</th>\n",
       "      <th>Age</th>\n",
       "      <th>Weight</th>\n",
       "      <th>Sleep before 10pm</th>\n",
       "    </tr>\n",
       "  </thead>\n",
       "  <tbody>\n",
       "    <tr>\n",
       "      <th>0</th>\n",
       "      <td>China</td>\n",
       "      <td>39.0</td>\n",
       "      <td>33.0</td>\n",
       "      <td>True</td>\n",
       "    </tr>\n",
       "    <tr>\n",
       "      <th>1</th>\n",
       "      <td>Philippines</td>\n",
       "      <td>49.0</td>\n",
       "      <td>47.0</td>\n",
       "      <td>False</td>\n",
       "    </tr>\n",
       "    <tr>\n",
       "      <th>2</th>\n",
       "      <td>China</td>\n",
       "      <td>36.25</td>\n",
       "      <td>39.0</td>\n",
       "      <td>False</td>\n",
       "    </tr>\n",
       "    <tr>\n",
       "      <th>3</th>\n",
       "      <td>China</td>\n",
       "      <td>39.0</td>\n",
       "      <td>78.0</td>\n",
       "      <td>False</td>\n",
       "    </tr>\n",
       "    <tr>\n",
       "      <th>4</th>\n",
       "      <td>China</td>\n",
       "      <td>29.0</td>\n",
       "      <td>51.625</td>\n",
       "      <td>False</td>\n",
       "    </tr>\n",
       "    <tr>\n",
       "      <th>5</th>\n",
       "      <td>Indonesia</td>\n",
       "      <td>34.0</td>\n",
       "      <td>93.0</td>\n",
       "      <td>False</td>\n",
       "    </tr>\n",
       "    <tr>\n",
       "      <th>6</th>\n",
       "      <td>Philippines</td>\n",
       "      <td>33.0</td>\n",
       "      <td>57.0</td>\n",
       "      <td>False</td>\n",
       "    </tr>\n",
       "    <tr>\n",
       "      <th>7</th>\n",
       "      <td>Philippines</td>\n",
       "      <td>26.0</td>\n",
       "      <td>31.0</td>\n",
       "      <td>True</td>\n",
       "    </tr>\n",
       "    <tr>\n",
       "      <th>8</th>\n",
       "      <td>China</td>\n",
       "      <td>36.25</td>\n",
       "      <td>35.0</td>\n",
       "      <td>True</td>\n",
       "    </tr>\n",
       "    <tr>\n",
       "      <th>9</th>\n",
       "      <td>China</td>\n",
       "      <td>41.0</td>\n",
       "      <td>51.625</td>\n",
       "      <td>False</td>\n",
       "    </tr>\n",
       "  </tbody>\n",
       "</table>\n",
       "</div>"
      ],
      "text/plain": [
       "       country    Age  Weight  Sleep before 10pm\n",
       "0        China   39.0    33.0               True\n",
       "1  Philippines   49.0    47.0              False\n",
       "2        China  36.25    39.0              False\n",
       "3        China   39.0    78.0              False\n",
       "4        China   29.0  51.625              False\n",
       "5    Indonesia   34.0    93.0              False\n",
       "6  Philippines   33.0    57.0              False\n",
       "7  Philippines   26.0    31.0               True\n",
       "8        China  36.25    35.0               True\n",
       "9        China   41.0  51.625              False"
      ]
     },
     "execution_count": 40,
     "metadata": {},
     "output_type": "execute_result"
    }
   ],
   "source": [
    "m_data['Weight'] = x[:,2]\n",
    "m_data"
   ]
  },
  {
   "cell_type": "code",
   "execution_count": 42,
   "metadata": {
    "pycharm": {
     "name": "#%%\n"
    }
   },
   "outputs": [],
   "source": [
    "from sklearn.preprocessing import  LabelEncoder, OneHotEncoder\n",
    "from sklearn.compose import ColumnTransformer"
   ]
  },
  {
   "cell_type": "code",
   "execution_count": 43,
   "metadata": {
    "pycharm": {
     "name": "#%%\n"
    }
   },
   "outputs": [
    {
     "data": {
      "text/plain": [
       "array([[0, 39.0, 33.0],\n",
       "       [2, 49.0, 47.0],\n",
       "       [0, 36.25, 39.0],\n",
       "       [0, 39.0, 78.0],\n",
       "       [0, 29.0, 51.625],\n",
       "       [1, 34.0, 93.0],\n",
       "       [2, 33.0, 57.0],\n",
       "       [2, 26.0, 31.0],\n",
       "       [0, 36.25, 35.0],\n",
       "       [0, 41.0, 51.625]], dtype=object)"
      ]
     },
     "execution_count": 43,
     "metadata": {},
     "output_type": "execute_result"
    }
   ],
   "source": [
    "labelencoder_X = LabelEncoder()\n",
    "x[:,0] = labelencoder_X.fit_transform(x[:,0])\n",
    "x"
   ]
  },
  {
   "cell_type": "code",
   "execution_count": 44,
   "metadata": {
    "pycharm": {
     "name": "#%%\n"
    }
   },
   "outputs": [
    {
     "data": {
      "text/plain": [
       "array([[1.0, 0.0, 0.0, 39.0, 33.0],\n",
       "       [0.0, 0.0, 1.0, 49.0, 47.0],\n",
       "       [1.0, 0.0, 0.0, 36.25, 39.0],\n",
       "       [1.0, 0.0, 0.0, 39.0, 78.0],\n",
       "       [1.0, 0.0, 0.0, 29.0, 51.625],\n",
       "       [0.0, 1.0, 0.0, 34.0, 93.0],\n",
       "       [0.0, 0.0, 1.0, 33.0, 57.0],\n",
       "       [0.0, 0.0, 1.0, 26.0, 31.0],\n",
       "       [1.0, 0.0, 0.0, 36.25, 35.0],\n",
       "       [1.0, 0.0, 0.0, 41.0, 51.625]], dtype=object)"
      ]
     },
     "execution_count": 44,
     "metadata": {},
     "output_type": "execute_result"
    }
   ],
   "source": [
    "ct = ColumnTransformer([(\"Country\", OneHotEncoder(), [0])], remainder='passthrough')\n",
    "x = ct.fit_transform(x)\n",
    "x"
   ]
  },
  {
   "cell_type": "code",
   "execution_count": 66,
   "metadata": {
    "pycharm": {
     "name": "#%%\n"
    }
   },
   "outputs": [
    {
     "data": {
      "text/plain": [
       "['China', 'Indonesia', 'Philippines']"
      ]
     },
     "execution_count": 66,
     "metadata": {},
     "output_type": "execute_result"
    }
   ],
   "source": [
    "d = list(set(m_data.iloc[:,0].values))\n",
    "d.sort()\n",
    "d"
   ]
  },
  {
   "cell_type": "code",
   "execution_count": 67,
   "metadata": {
    "pycharm": {
     "name": "#%%\n"
    }
   },
   "outputs": [],
   "source": [
    "from sklearn.model_selection import  train_test_split\n",
    "X_train, X_test, y_train, y_test = train_test_split(x,y, test_size=0.2, random_state=1)"
   ]
  },
  {
   "cell_type": "code",
   "execution_count": 68,
   "metadata": {
    "pycharm": {
     "name": "#%%\n"
    }
   },
   "outputs": [
    {
     "data": {
      "text/plain": [
       "array([[0.0, 0.0, 1.0, 33.0, 57.0],\n",
       "       [1.0, 0.0, 0.0, 29.0, 51.625],\n",
       "       [1.0, 0.0, 0.0, 39.0, 33.0],\n",
       "       [1.0, 0.0, 0.0, 39.0, 78.0],\n",
       "       [0.0, 0.0, 1.0, 49.0, 47.0],\n",
       "       [0.0, 0.0, 1.0, 26.0, 31.0],\n",
       "       [1.0, 0.0, 0.0, 36.25, 35.0],\n",
       "       [0.0, 1.0, 0.0, 34.0, 93.0]], dtype=object)"
      ]
     },
     "execution_count": 68,
     "metadata": {},
     "output_type": "execute_result"
    }
   ],
   "source": [
    "X_train"
   ]
  },
  {
   "cell_type": "code",
   "execution_count": 69,
   "metadata": {
    "pycharm": {
     "name": "#%%\n"
    }
   },
   "outputs": [
    {
     "data": {
      "text/plain": [
       "array([[1.0, 0.0, 0.0, 36.25, 39.0],\n",
       "       [1.0, 0.0, 0.0, 41.0, 51.625]], dtype=object)"
      ]
     },
     "execution_count": 69,
     "metadata": {},
     "output_type": "execute_result"
    }
   ],
   "source": [
    "X_test"
   ]
  },
  {
   "cell_type": "code",
   "execution_count": 70,
   "metadata": {
    "pycharm": {
     "name": "#%%\n"
    }
   },
   "outputs": [
    {
     "data": {
      "text/plain": [
       "array([False, False,  True, False, False,  True,  True, False])"
      ]
     },
     "execution_count": 70,
     "metadata": {},
     "output_type": "execute_result"
    }
   ],
   "source": [
    "y_train"
   ]
  },
  {
   "cell_type": "code",
   "execution_count": 71,
   "metadata": {
    "pycharm": {
     "name": "#%%\n"
    }
   },
   "outputs": [
    {
     "data": {
      "text/plain": [
       "array([False, False])"
      ]
     },
     "execution_count": 71,
     "metadata": {},
     "output_type": "execute_result"
    }
   ],
   "source": [
    "y_test"
   ]
  },
  {
   "cell_type": "code",
   "execution_count": 72,
   "metadata": {
    "pycharm": {
     "name": "#%%\n"
    }
   },
   "outputs": [
    {
     "data": {
      "text/html": [
       "<div>\n",
       "<style scoped>\n",
       "    .dataframe tbody tr th:only-of-type {\n",
       "        vertical-align: middle;\n",
       "    }\n",
       "\n",
       "    .dataframe tbody tr th {\n",
       "        vertical-align: top;\n",
       "    }\n",
       "\n",
       "    .dataframe thead th {\n",
       "        text-align: right;\n",
       "    }\n",
       "</style>\n",
       "<table border=\"1\" class=\"dataframe\">\n",
       "  <thead>\n",
       "    <tr style=\"text-align: right;\">\n",
       "      <th></th>\n",
       "      <th>country</th>\n",
       "      <th>Age</th>\n",
       "      <th>Weight</th>\n",
       "      <th>Salary</th>\n",
       "      <th>Sleep before 10pm</th>\n",
       "    </tr>\n",
       "  </thead>\n",
       "  <tbody>\n",
       "    <tr>\n",
       "      <th>0</th>\n",
       "      <td>China</td>\n",
       "      <td>39</td>\n",
       "      <td>33</td>\n",
       "      <td>54656</td>\n",
       "      <td>True</td>\n",
       "    </tr>\n",
       "    <tr>\n",
       "      <th>1</th>\n",
       "      <td>Philippines</td>\n",
       "      <td>49</td>\n",
       "      <td>47</td>\n",
       "      <td>79952</td>\n",
       "      <td>False</td>\n",
       "    </tr>\n",
       "    <tr>\n",
       "      <th>2</th>\n",
       "      <td>China</td>\n",
       "      <td>44</td>\n",
       "      <td>39</td>\n",
       "      <td>97507</td>\n",
       "      <td>False</td>\n",
       "    </tr>\n",
       "    <tr>\n",
       "      <th>3</th>\n",
       "      <td>China</td>\n",
       "      <td>39</td>\n",
       "      <td>78</td>\n",
       "      <td>98912</td>\n",
       "      <td>False</td>\n",
       "    </tr>\n",
       "    <tr>\n",
       "      <th>4</th>\n",
       "      <td>China</td>\n",
       "      <td>29</td>\n",
       "      <td>36</td>\n",
       "      <td>69585</td>\n",
       "      <td>False</td>\n",
       "    </tr>\n",
       "    <tr>\n",
       "      <th>5</th>\n",
       "      <td>Indonesia</td>\n",
       "      <td>34</td>\n",
       "      <td>93</td>\n",
       "      <td>86324</td>\n",
       "      <td>False</td>\n",
       "    </tr>\n",
       "    <tr>\n",
       "      <th>6</th>\n",
       "      <td>Philippines</td>\n",
       "      <td>33</td>\n",
       "      <td>57</td>\n",
       "      <td>94321</td>\n",
       "      <td>False</td>\n",
       "    </tr>\n",
       "    <tr>\n",
       "      <th>7</th>\n",
       "      <td>Philippines</td>\n",
       "      <td>26</td>\n",
       "      <td>31</td>\n",
       "      <td>65625</td>\n",
       "      <td>True</td>\n",
       "    </tr>\n",
       "    <tr>\n",
       "      <th>8</th>\n",
       "      <td>China</td>\n",
       "      <td>33</td>\n",
       "      <td>35</td>\n",
       "      <td>93450</td>\n",
       "      <td>True</td>\n",
       "    </tr>\n",
       "    <tr>\n",
       "      <th>9</th>\n",
       "      <td>China</td>\n",
       "      <td>41</td>\n",
       "      <td>40</td>\n",
       "      <td>70155</td>\n",
       "      <td>False</td>\n",
       "    </tr>\n",
       "  </tbody>\n",
       "</table>\n",
       "</div>"
      ],
      "text/plain": [
       "       country  Age  Weight  Salary  Sleep before 10pm\n",
       "0        China   39      33   54656               True\n",
       "1  Philippines   49      47   79952              False\n",
       "2        China   44      39   97507              False\n",
       "3        China   39      78   98912              False\n",
       "4        China   29      36   69585              False\n",
       "5    Indonesia   34      93   86324              False\n",
       "6  Philippines   33      57   94321              False\n",
       "7  Philippines   26      31   65625               True\n",
       "8        China   33      35   93450               True\n",
       "9        China   41      40   70155              False"
      ]
     },
     "execution_count": 72,
     "metadata": {},
     "output_type": "execute_result"
    }
   ],
   "source": [
    "s_data = pd.read_csv('Dataset/10_initial_FS.csv')\n",
    "s_data"
   ]
  },
  {
   "cell_type": "code",
   "execution_count": 80,
   "metadata": {
    "pycharm": {
     "name": "#%%\n"
    }
   },
   "outputs": [
    {
     "data": {
      "text/plain": [
       "array([['China', 39, 33, 54656],\n",
       "       ['Philippines', 49, 47, 79952],\n",
       "       ['China', 44, 39, 97507],\n",
       "       ['China', 39, 78, 98912],\n",
       "       ['China', 29, 36, 69585],\n",
       "       ['Indonesia', 34, 93, 86324],\n",
       "       ['Philippines', 33, 57, 94321],\n",
       "       ['Philippines', 26, 31, 65625],\n",
       "       ['China', 33, 35, 93450],\n",
       "       ['China', 41, 40, 70155]], dtype=object)"
      ]
     },
     "execution_count": 80,
     "metadata": {},
     "output_type": "execute_result"
    }
   ],
   "source": [
    "X1 = s_data.iloc[:,:-1].values\n",
    "X1"
   ]
  },
  {
   "cell_type": "code",
   "execution_count": 81,
   "metadata": {
    "pycharm": {
     "name": "#%%\n"
    }
   },
   "outputs": [
    {
     "data": {
      "text/plain": [
       "array([ True, False, False, False, False, False, False,  True,  True,\n",
       "       False])"
      ]
     },
     "execution_count": 81,
     "metadata": {},
     "output_type": "execute_result"
    }
   ],
   "source": [
    "y1 = s_data.iloc[:,-1].values\n",
    "y1"
   ]
  },
  {
   "cell_type": "code",
   "execution_count": 82,
   "metadata": {
    "pycharm": {
     "name": "#%%\n"
    }
   },
   "outputs": [
    {
     "data": {
      "text/plain": [
       "array([[0, 39, 33, 54656],\n",
       "       [2, 49, 47, 79952],\n",
       "       [0, 44, 39, 97507],\n",
       "       [0, 39, 78, 98912],\n",
       "       [0, 29, 36, 69585],\n",
       "       [1, 34, 93, 86324],\n",
       "       [2, 33, 57, 94321],\n",
       "       [2, 26, 31, 65625],\n",
       "       [0, 33, 35, 93450],\n",
       "       [0, 41, 40, 70155]], dtype=object)"
      ]
     },
     "execution_count": 82,
     "metadata": {},
     "output_type": "execute_result"
    }
   ],
   "source": [
    "labelencoder_X = LabelEncoder()\n",
    "X1[:,0] = labelencoder_X.fit_transform(X1[:,0])\n",
    "X1"
   ]
  },
  {
   "cell_type": "code",
   "execution_count": 83,
   "metadata": {
    "pycharm": {
     "name": "#%%\n"
    }
   },
   "outputs": [
    {
     "data": {
      "text/plain": [
       "array([[1.0, 0.0, 0.0, 39, 33, 54656],\n",
       "       [0.0, 0.0, 1.0, 49, 47, 79952],\n",
       "       [1.0, 0.0, 0.0, 44, 39, 97507],\n",
       "       [1.0, 0.0, 0.0, 39, 78, 98912],\n",
       "       [1.0, 0.0, 0.0, 29, 36, 69585],\n",
       "       [0.0, 1.0, 0.0, 34, 93, 86324],\n",
       "       [0.0, 0.0, 1.0, 33, 57, 94321],\n",
       "       [0.0, 0.0, 1.0, 26, 31, 65625],\n",
       "       [1.0, 0.0, 0.0, 33, 35, 93450],\n",
       "       [1.0, 0.0, 0.0, 41, 40, 70155]], dtype=object)"
      ]
     },
     "execution_count": 83,
     "metadata": {},
     "output_type": "execute_result"
    }
   ],
   "source": [
    "ct = ColumnTransformer([(\"Country\", OneHotEncoder(), [0])], remainder='passthrough')\n",
    "X1 = ct.fit_transform(X1)\n",
    "X1"
   ]
  },
  {
   "cell_type": "code",
   "execution_count": 85,
   "metadata": {
    "pycharm": {
     "name": "#%%\n"
    }
   },
   "outputs": [
    {
     "data": {
      "text/plain": [
       "array([[ 0.81649658, -0.33333333, -0.65465367,  0.34591355, -0.79790769,\n",
       "        -1.8069119 ],\n",
       "       [-1.22474487, -0.33333333,  1.52752523,  1.84988552, -0.09534746,\n",
       "        -0.07508289],\n",
       "       [ 0.81649658, -0.33333333, -0.65465367,  1.09789954, -0.49681045,\n",
       "         1.12677741],\n",
       "       [ 0.81649658, -0.33333333, -0.65465367,  0.34591355,  1.46032162,\n",
       "         1.22296731],\n",
       "       [ 0.81649658, -0.33333333, -0.65465367, -1.15805842, -0.64735907,\n",
       "        -0.78483429],\n",
       "       [-1.22474487,  3.        , -0.65465367, -0.40607243,  2.21306472,\n",
       "         0.36116056],\n",
       "       [-1.22474487, -0.33333333,  1.52752523, -0.55646963,  0.40648127,\n",
       "         0.90865568],\n",
       "       [-1.22474487, -0.33333333,  1.52752523, -1.60925001, -0.89827343,\n",
       "        -1.05594604],\n",
       "       [ 0.81649658, -0.33333333, -0.65465367, -0.55646963, -0.69754194,\n",
       "         0.84902479],\n",
       "       [ 0.81649658, -0.33333333, -0.65465367,  0.64670795, -0.44662757,\n",
       "        -0.74581063]])"
      ]
     },
     "execution_count": 85,
     "metadata": {},
     "output_type": "execute_result"
    }
   ],
   "source": [
    "from sklearn.preprocessing import StandardScaler\n",
    "std_sc_X = StandardScaler()\n",
    "X1 = std_sc_X.fit_transform(X1)\n",
    "X1"
   ]
  },
  {
   "cell_type": "code",
   "execution_count": 86,
   "metadata": {
    "pycharm": {
     "name": "#%%\n"
    }
   },
   "outputs": [
    {
     "data": {
      "text/plain": [
       "4.142857142857143"
      ]
     },
     "execution_count": 86,
     "metadata": {},
     "output_type": "execute_result"
    }
   ],
   "source": [
    "np.mean([1,4,5,7,4,2,6])"
   ]
  },
  {
   "cell_type": "code",
   "execution_count": 87,
   "metadata": {
    "pycharm": {
     "name": "#%%\n"
    }
   },
   "outputs": [
    {
     "data": {
      "text/plain": [
       "6.5"
      ]
     },
     "execution_count": 87,
     "metadata": {},
     "output_type": "execute_result"
    }
   ],
   "source": [
    "np.median([4,3,6,7,8,9])"
   ]
  },
  {
   "cell_type": "code",
   "execution_count": 88,
   "metadata": {
    "pycharm": {
     "name": "#%%\n"
    }
   },
   "outputs": [
    {
     "data": {
      "text/plain": [
       "ModeResult(mode=array([5]), count=array([3]))"
      ]
     },
     "execution_count": 88,
     "metadata": {},
     "output_type": "execute_result"
    }
   ],
   "source": [
    "from scipy import stats\n",
    "stats.mode([1,3,3,5,5,5,7,7,8,8,8])"
   ]
  },
  {
   "cell_type": "code",
   "execution_count": 89,
   "metadata": {
    "pycharm": {
     "name": "#%%\n"
    }
   },
   "outputs": [
    {
     "data": {
      "text/plain": [
       "ModeResult(mode=array([1]), count=array([1]))"
      ]
     },
     "execution_count": 89,
     "metadata": {},
     "output_type": "execute_result"
    }
   ],
   "source": [
    "stats.mode([1,2,3,4,5,6,7])"
   ]
  },
  {
   "cell_type": "code",
   "execution_count": 90,
   "metadata": {
    "pycharm": {
     "name": "#%%\n"
    }
   },
   "outputs": [
    {
     "data": {
      "text/plain": [
       "1.6659862556700857"
      ]
     },
     "execution_count": 90,
     "metadata": {},
     "output_type": "execute_result"
    }
   ],
   "source": [
    "np.std([1,2,5,4,3,6,2])"
   ]
  },
  {
   "cell_type": "code",
   "execution_count": 94,
   "metadata": {
    "pycharm": {
     "name": "#%%\n"
    }
   },
   "outputs": [
    {
     "data": {
      "text/plain": [
       "60.0"
      ]
     },
     "execution_count": 94,
     "metadata": {},
     "output_type": "execute_result"
    }
   ],
   "source": [
    "stats.percentileofscore([1,2,56,3,2,5,6,8,9,10], 8,'strict')"
   ]
  },
  {
   "cell_type": "code",
   "execution_count": 96,
   "metadata": {
    "pycharm": {
     "name": "#%%\n"
    }
   },
   "outputs": [
    {
     "data": {
      "text/plain": [
       "array([15.3 , 20.8 , 25.1 , 27.7 , 29.4 , 23.1 , 20.6 ,  9.4 ,  5.4 ,\n",
       "        7.  ,  3.5 , 12.  , 15.3 , 21.9 , 25.6 , 29.2 , 27.9 , 26.4 ,\n",
       "       19.1 ,  9.6 ,  7.4 , -4.3 ,  4.4 , 10.9 , 15.3 , 20.3 , 24.1 ,\n",
       "       26.8 , 26.1 , 22.6 , 19.4 ,  7.1 ,  5.8 ,  4.9 ,  4.4 ,  7.8 ,\n",
       "       15.8 , 21.8 , 24.1 , 28.  , 27.8 , 23.9 , 17.6 ,  9.6 ,  6.6 ,\n",
       "        2.8 ,  4.5 , 10.  , 16.8 , 19.9 , 25.  , 27.8 , 26.9 , 21.21,\n",
       "       16.5 , 10.8 ,  4.6 ,  2.8 ,  7.7 ,  7.  , 17.8 , 18.5 , 26.5 ,\n",
       "       29.4 , 30.7 , 23.3 , 16.  ,  9.7 ,  2.6 ,  3.8 ,  6.9 ,  8.2 ,\n",
       "       14.4 , 20.7 , 26.3 , 28.  , 28.2 , 22.8 , 18.  , 10.9 ,  2.8 ,\n",
       "        3.9 ,  4.7 , 12.7 , 14.1 , 19.1 , 23.6 , 26.4 , 26.8 , 22.6 ,\n",
       "       16.4 , 11.8 ,  1.7 ,  3.7 ,  8.4 , 13.6 , 18.3 , 18.8 , 24.6 ,\n",
       "       28.7 , 27.9 , 22.3 , 18.  ,  9.9 ,  7.1 ,  3.11,  2.8 ,  7.3 ,\n",
       "       14.4 , 19.  , 24.9 , 26.3 , 28.8 , 25.  , 20.7 ,  7.6 ,  5.2 ,\n",
       "       -0.1 ,  3.1 ,  6.6 , 19.2 , 20.4 , 25.6 , 26.9 , 26.9 , 23.8 ,\n",
       "       16.6 ,  8.7 ,  6.  , -1.3 ,  4.1 ,  9.7 , 14.8 , 21.3 , 25.3 ,\n",
       "       27.9 , 25.8 , 20.8 , 16.4 , 12.4 ,  5.3 ,  3.  ,  7.4 ,  9.  ,\n",
       "       14.7 , 20.2 , 24.4 , 24.5 , 24.6 , 21.6 , 19.6 ,  8.2 ,  3.9 ,\n",
       "        3.8 ,  5.3 ,  8.6 , 13.9 , 19.6 , 24.  , 27.5 , 29.  , 22.7 ,\n",
       "       16.7 ,  6.3 ,  5.1 ,  6.8 ,  7.6 ,  8.5 , 13.6 , 20.2 , 27.5 ,\n",
       "       27.3 , 29.4 , 23.8 , 15.7 ,  8.9 ,  3.9 ,  6.  ,  6.6 , 12.4 ,\n",
       "       13.3 , 20.1 , 29.1 , 26.1 , 26.1 , 24.4 , 17.6 ,  9.8 ,  4.1 ,\n",
       "        3.3 , 10.7 ,  8.6 , 18.7 , 17.2 , 25.5 , 30.8 , 29.9 , 26.1 ,\n",
       "       17.7 , 10.9 ,  5.2 ,  3.7 ,  4.3 ,  9.7 , 17.8 , 21.4 , 22.8 ,\n",
       "       28.4 , 27.1 , 23.9 , 16.1 ,  7.2 ,  3.1 ,  2.3 ,  4.8 , 10.3 ,\n",
       "       14.4 , 22.6 , 25.6 , 28.3 , 29.1 , 24.8 , 19.  ,  8.4 ,  5.4 ,\n",
       "        0.7 ,  7.4 ,  8.2 , 13.3 , 18.7 , 23.4 , 28.6 , 27.  , 20.7 ,\n",
       "       14.  ,  7.6 ,  6.8 ,  4.1 ,  1.9 ,  5.  , 13.4 , 20.8 , 24.9 ,\n",
       "       26.7 , 26.6 , 22.9 , 16.6 , 10.8 ,  2.5 ,  0.5 ,  4.4 ,  9.8 ,\n",
       "       14.7 , 21.3 , 24.3 , 25.2 , 26.7 , 22.6 , 14.6 ,  6.4 ,  6.8 ,\n",
       "        2.4 ,  1.4 ,  4.3 , 16.5 , 19.1 , 25.2 , 25.6 , 26.3 , 23.6 ,\n",
       "       18.  , 10.8 ,  3.  ,  2.4 ,  5.9 , 11.2 , 15.1 , 19.8 , 23.4 ,\n",
       "       26.1 , 25.8 , 21.4 , 17.2 ,  8.1 ,  2.6 ,  0.2 ,  7.3 ,  8.9 ,\n",
       "       14.6 , 23.5 , 24.1 , 27.9 , 28.  , 21.9 , 18.1 ,  9.7 ,  4.8 ,\n",
       "       -2.1 ,  4.4 , 12.1 , 18.2 , 21.3 , 25.9 , 28.4 , 27.8 , 23.9 ,\n",
       "       21.7 , 11.3 ,  0.5 ,  4.5 ,  3.6 ,  8.4 , 17.8 , 21.1 , 25.2 ,\n",
       "       29.6 , 27.1 , 22.4 , 15.7 ,  9.9 ,  3.3 ,  3.8 ,  4.2 ,  4.8 ,\n",
       "       18.6 , 21.8 , 25.6 , 29.2 , 27.  , 23.3 , 17.1 , 13.5 ,  9.3 ,\n",
       "        1.  ,  3.6 , 11.5 , 14.3 , 20.4 , 25.5 , 30.2 , 26.  , 21.4 ,\n",
       "       16.  , 12.4 ,  3.2 ,  5.4 ,  5.4 , 13.5 , 18.6 , 19.4 , 25.2 ,\n",
       "       26.5 , 26.3 , 21.6 , 17.  ,  9.6 ,  4.3 ,  2.5 ,  2.4 , 10.4 ,\n",
       "       14.5 , 18.1 , 23.8 , 26.6 , 26.6 , 21.4 , 16.7 ,  7.9 ,  3.4 ,\n",
       "        3.8 ,  5.7 ,  5.5 , 15.8 , 19.8 , 23.9 , 28.8 , 26.8 , 22.9 ,\n",
       "       14.2 ,  9.3 ,  4.7 , -0.1 ,  5.9 ,  7.2 , 15.6 , 20.7 , 24.6 ,\n",
       "       27.8 , 28.6 , 23.9 , 14.4 ,  7.8 ,  6.6 ,  2.7 ,  3.9 ,  9.5 ,\n",
       "       15.8 , 19.6 , 25.9 , 27.  , 25.1 , 22.9 , 17.4 ,  9.4 ,  5.6 ,\n",
       "        1.6 ,  5.6 , 11.9 , 17.3 , 19.8 , 26.1 , 26.6 , 26.9 , 24.3 ,\n",
       "       16.1 ,  6.3 ,  1.3 ,  0.7 ,  4.3 , 11.4 , 13.3 , 19.3 , 24.  ,\n",
       "       26.5 , 26.5 , 21.4 , 17.9 , 11.7 ,  4.1 ,  1.7 ,  6.9 , 12.6 ,\n",
       "       15.6 , 21.9 , 23.4 , 28.1 , 25.8 , 18.6 , 17.5 ,  9.6 ,  4.2 ,\n",
       "        4.6 ,  2.5 ,  7.8 , 14.8 , 19.6 , 23.9 , 25.5 , 26.7 , 20.1 ,\n",
       "       17.4 , 10.4 ,  5.4 ,  3.9 , 11.2 , 11.3 , 16.4 , 17.5 , 23.8 ,\n",
       "       26.6 , 27.4 , 22.5 , 13.6 ,  6.6 ,  3.8 , -1.6 ,  7.7 , 12.3 ,\n",
       "       16.9 , 21.1 , 26.4 , 28.3 , 27.  , 25.5 , 17.  , 10.5 ,  4.4 ,\n",
       "       -3.2 , -1.4 ,  9.5 , 18.  , 20.  , 25.1 , 30.6 , 28.1 , 26.5 ,\n",
       "       18.2 , 10.2 ,  2.7 , -3.7 , -0.3 , 10.6 , 14.5 , 18.8 , 24.  ,\n",
       "       27.2 , 26.6 , 22.8 , 18.7 ,  8.  ,  6.3 ,  3.4 ,  3.4 ,  7.9 ,\n",
       "       13.7 , 20.5 , 27.4 , 31.3 , 31.1 , 24.6 , 16.1 , 10.1 ,  5.5 ,\n",
       "        3.2 ,  6.6 , 11.1 , 18.7 , 18.7 , 25.8 , 29.  , 26.  , 23.4 ,\n",
       "       15.6 , 10.2 ,  3.9 ,  1.8 ,  3.2 , 11.5 , 14.2 , 20.1 , 22.3 ,\n",
       "       27.2 , 28.9 , 23.6 , 17.1 ,  9.2 ,  6.2 ,  3.7 ,  5.9 ,  9.3 ,\n",
       "       12.2 , 18.1 , 23.  , 27.6 , 28.9 , 23.8 , 17.1 , 10.2 , -3.4 ,\n",
       "        1.1 ,  7.4 ,  8.  , 13.6 , 20.2 , 25.9 , 27.6 , 28.1 , 21.9 ,\n",
       "       16.4 ,  9.8 ,  6.1 , -0.8 ,  2.9 , 11.7 , 17.1 , 21.1 , 24.4 ,\n",
       "       27.2 , 27.4 , 22.8 , 16.2 ,  7.8 ,  1.7 ,  6.4 ,  7.1 , 13.1 ,\n",
       "       17.1 , 20.6 , 26.1 , 29.9 , 26.7 , 23.8 , 16.4 ,  7.1 ,  4.9 ,\n",
       "        1.7 ,  7.7 , 10.2 , 16.6 , 22.6 , 25.1 , 26.7 , 27.9 , 22.4 ,\n",
       "       15.6 , 10.3 ,  4.8 ,  1.2 ,  4.6 ,  9.7 , 14.9 , 21.3 , 25.8 ,\n",
       "       27.6 , 28.2 , 23.1 , 15.2 , 10.7 ,  6.6 ,  6.  ,  0.6 , 10.6 ,\n",
       "       17.4 , 20.8 , 23.5 , 26.4 , 25.7 , 19.9 , 17.3 , 11.2 ,  0.4 ,\n",
       "        7.7 ,  7.8 , 11.4 , 15.1 , 20.3 , 27.8 , 27.1 , 27.6 , 25.  ,\n",
       "       16.1 , 12.7 ,  2.8 ,  1.6 ,  9.4 , 12.4 , 16.9 , 22.4 , 25.6 ,\n",
       "       27.9 , 27.3 , 21.6 , 17.  ,  7.2 ,  7.2 ,  5.6 ,  9.9 , 12.3 ,\n",
       "       16.3 , 19.2 , 23.4 , 27.3 , 23.8 , 22.5 , 16.8 ,  7.7 ,  4.3 ,\n",
       "        2.5 ,  3.8 ,  8.9 , 13.4 , 18.9 , 24.9 , 28.7 , 27.9 , 21.  ,\n",
       "       13.9 ,  6.8 ,  5.6 ,  2.2 ,  3.  , 11.5 , 15.2 , 19.3 , 26.4 ,\n",
       "       26.6 , 26.5 , 21.5 , 17.  , 10.1 ,  5.8 ,  3.7 ,  7.2 ,  9.9 ,\n",
       "       13.8 , 18.  , 22.9 , 27.2 , 27.5 , 21.7 , 16.5 ,  9.7 ,  4.4 ,\n",
       "        2.1 ,  7.  ,  7.8 , 14.8 , 23.2 , 25.4 , 27.4 , 25.6 , 20.8 ,\n",
       "       16.  ,  8.  ,  5.7 ,  3.2 ,  6.6 , 11.3 , 12.6 , 19.3 , 24.  ,\n",
       "       27.6 , 25.9 , 24.1 , 16.8 ,  8.1 ,  4.  ,  4.8 ,  7.6 ,  8.5 ,\n",
       "       14.1 , 22.5 , 27.3 , 31.1 , 29.4 , 27.3 , 17.9 , 11.8 ,  5.3 ,\n",
       "        4.7 , 10.3 ,  9.9 , 16.3 , 20.  , 24.3 , 27.9 , 29.3 , 21.7 ,\n",
       "       17.1 , 13.8 ,  6.3 ,  4.8 ,  9.5 , 11.8 , 15.  , 21.6 , 23.6 ,\n",
       "       27.1 , 29.7 , 24.5 , 17.8 ,  6.2 , -0.8 ,  2.3 ,  4.8 ,  8.1 ,\n",
       "       17.5 , 20.8 , 24.6 , 29.8 , 28.3 , 21.5 , 15.6 , 12.1 ,  5.7 ,\n",
       "        4.5 ,  5.1 ,  7.8 , 16.1 , 18.8 , 24.6 , 26.6 , 27.4 , 23.4 ,\n",
       "       13.5 ,  8.6 ,  5.1 ,  2.7 ,  3.2 ,  9.7 , 15.6 , 20.6 , 23.3 ,\n",
       "       29.  , 28.2 , 20.8 , 17.5 , 10.3 ,  6.2 ,  4.4 ,  4.4 , 12.9 ,\n",
       "       16.2 , 22.2 , 24.1 , 26.  , 24.7 , 23.9 , 18.1 , 10.3 ,  6.5 ,\n",
       "        4.2 ,  8.5 , 10.9 , 16.3 , 20.7 , 25.6 , 26.9 , 27.2 , 25.  ,\n",
       "       17.5 , 12.1 ,  3.8 ,  8.7 ,  5.4 , 12.8 , 19.6 , 22.6 , 26.7 ,\n",
       "       30.  , 29.9 , 21.8 , 17.1 , 11.7 ,  6.4 ,  2.6 ,  5.7 , 15.7 ,\n",
       "       14.1 , 21.7 , 25.2 , 27.1 , 29.  , 24.5 , 18.6 , 11.6 ,  4.  ,\n",
       "        4.5 ,  5.6 , 11.4 , 15.3 , 21.9 , 26.7 , 28.6 , 27.3 , 21.9 ,\n",
       "       16.3 , 10.5 ,  4.2 ,  2.8 ,  9.  , 12.1 , 15.2 , 19.2 , 26.8 ,\n",
       "       28.  , 26.2 , 21.5 , 13.1 , 12.3 ,  1.7 ,  2.2 ,  2.6 ,  9.8 ,\n",
       "       16.6 , 20.9 , 27.4 , 28.1 , 29.5 , 24.4 , 17.3 , 10.6 ,  5.  ,\n",
       "        2.3 ,  5.2 , 12.  , 18.1 , 20.8 ])"
      ]
     },
     "execution_count": 96,
     "metadata": {},
     "output_type": "execute_result"
    }
   ],
   "source": [
    "temp = np.loadtxt('Dataset/temperature.csv')\n",
    "temp"
   ]
  },
  {
   "cell_type": "code",
   "execution_count": 107,
   "metadata": {
    "pycharm": {
     "name": "#%%\n"
    }
   },
   "outputs": [
    {
     "data": {
      "image/png": "[encoded data removed]",
      "text/plain": [
       "<Figure size 432x288 with 1 Axes>"
      ]
     },
     "metadata": {
      "needs_background": "light"
     },
     "output_type": "display_data"
    }
   ],
   "source": [
    "plt.hist(temp, bins=10, color='orange')\n",
    "plt.ylabel('Count')\n",
    "plt.xlabel('Freq')\n",
    "plt.title('Temperature Distribution')\n",
    "plt.show()"
   ]
  },
  {
   "cell_type": "code",
   "execution_count": 119,
   "metadata": {
    "pycharm": {
     "name": "#%%\n"
    }
   },
   "outputs": [
    {
     "data": {
      "image/png": "[encoded data removed]",
      "text/plain": [
       "<Figure size 432x288 with 1 Axes>"
      ]
     },
     "metadata": {
      "needs_background": "light"
     },
     "output_type": "display_data"
    }
   ],
   "source": [
    "plt.boxplot(temp, showmeans=True)\n",
    "plt.show()"
   ]
  },
  {
   "cell_type": "code",
   "execution_count": 120,
   "metadata": {
    "pycharm": {
     "name": "#%%\n"
    }
   },
   "outputs": [],
   "source": [
    "young = np.array([5,16,21,26,30,31,32,35,38,66])\n",
    "old = np.array([5,18,25,28,30,33,40,45,50,66])"
   ]
  },
  {
   "cell_type": "code",
   "execution_count": 124,
   "metadata": {
    "pycharm": {
     "name": "#%%\n"
    }
   },
   "outputs": [
    {
     "data": {
      "image/png": "[encoded data removed]",
      "text/plain": [
       "<Figure size 432x288 with 1 Axes>"
      ]
     },
     "metadata": {
      "needs_background": "light"
     },
     "output_type": "display_data"
    }
   ],
   "source": [
    "plt.boxplot([young,old])\n",
    "plt.show()"
   ]
  },
  {
   "cell_type": "code",
   "execution_count": 125,
   "metadata": {
    "pycharm": {
     "name": "#%%\n"
    }
   },
   "outputs": [
    {
     "data": {
      "text/html": [
       "<div>\n",
       "<style scoped>\n",
       "    .dataframe tbody tr th:only-of-type {\n",
       "        vertical-align: middle;\n",
       "    }\n",
       "\n",
       "    .dataframe tbody tr th {\n",
       "        vertical-align: top;\n",
       "    }\n",
       "\n",
       "    .dataframe thead th {\n",
       "        text-align: right;\n",
       "    }\n",
       "</style>\n",
       "<table border=\"1\" class=\"dataframe\">\n",
       "  <thead>\n",
       "    <tr style=\"text-align: right;\">\n",
       "      <th></th>\n",
       "      <th>Volume</th>\n",
       "      <th>Price</th>\n",
       "    </tr>\n",
       "  </thead>\n",
       "  <tbody>\n",
       "    <tr>\n",
       "      <th>0</th>\n",
       "      <td>10</td>\n",
       "      <td>20</td>\n",
       "    </tr>\n",
       "    <tr>\n",
       "      <th>1</th>\n",
       "      <td>11</td>\n",
       "      <td>25</td>\n",
       "    </tr>\n",
       "    <tr>\n",
       "      <th>2</th>\n",
       "      <td>14</td>\n",
       "      <td>26</td>\n",
       "    </tr>\n",
       "    <tr>\n",
       "      <th>3</th>\n",
       "      <td>16</td>\n",
       "      <td>27</td>\n",
       "    </tr>\n",
       "    <tr>\n",
       "      <th>4</th>\n",
       "      <td>17</td>\n",
       "      <td>24</td>\n",
       "    </tr>\n",
       "    <tr>\n",
       "      <th>5</th>\n",
       "      <td>18</td>\n",
       "      <td>30</td>\n",
       "    </tr>\n",
       "    <tr>\n",
       "      <th>6</th>\n",
       "      <td>19</td>\n",
       "      <td>31</td>\n",
       "    </tr>\n",
       "    <tr>\n",
       "      <th>7</th>\n",
       "      <td>20</td>\n",
       "      <td>28</td>\n",
       "    </tr>\n",
       "    <tr>\n",
       "      <th>8</th>\n",
       "      <td>22</td>\n",
       "      <td>36</td>\n",
       "    </tr>\n",
       "    <tr>\n",
       "      <th>9</th>\n",
       "      <td>24</td>\n",
       "      <td>38</td>\n",
       "    </tr>\n",
       "    <tr>\n",
       "      <th>10</th>\n",
       "      <td>27</td>\n",
       "      <td>40</td>\n",
       "    </tr>\n",
       "    <tr>\n",
       "      <th>11</th>\n",
       "      <td>29</td>\n",
       "      <td>42</td>\n",
       "    </tr>\n",
       "    <tr>\n",
       "      <th>12</th>\n",
       "      <td>32</td>\n",
       "      <td>43</td>\n",
       "    </tr>\n",
       "    <tr>\n",
       "      <th>13</th>\n",
       "      <td>35</td>\n",
       "      <td>50</td>\n",
       "    </tr>\n",
       "    <tr>\n",
       "      <th>14</th>\n",
       "      <td>38</td>\n",
       "      <td>48</td>\n",
       "    </tr>\n",
       "    <tr>\n",
       "      <th>15</th>\n",
       "      <td>42</td>\n",
       "      <td>55</td>\n",
       "    </tr>\n",
       "    <tr>\n",
       "      <th>16</th>\n",
       "      <td>46</td>\n",
       "      <td>58</td>\n",
       "    </tr>\n",
       "    <tr>\n",
       "      <th>17</th>\n",
       "      <td>50</td>\n",
       "      <td>60</td>\n",
       "    </tr>\n",
       "    <tr>\n",
       "      <th>18</th>\n",
       "      <td>58</td>\n",
       "      <td>64</td>\n",
       "    </tr>\n",
       "    <tr>\n",
       "      <th>19</th>\n",
       "      <td>64</td>\n",
       "      <td>66</td>\n",
       "    </tr>\n",
       "    <tr>\n",
       "      <th>20</th>\n",
       "      <td>68</td>\n",
       "      <td>70</td>\n",
       "    </tr>\n",
       "    <tr>\n",
       "      <th>21</th>\n",
       "      <td>70</td>\n",
       "      <td>71</td>\n",
       "    </tr>\n",
       "  </tbody>\n",
       "</table>\n",
       "</div>"
      ],
      "text/plain": [
       "    Volume  Price\n",
       "0       10     20\n",
       "1       11     25\n",
       "2       14     26\n",
       "3       16     27\n",
       "4       17     24\n",
       "5       18     30\n",
       "6       19     31\n",
       "7       20     28\n",
       "8       22     36\n",
       "9       24     38\n",
       "10      27     40\n",
       "11      29     42\n",
       "12      32     43\n",
       "13      35     50\n",
       "14      38     48\n",
       "15      42     55\n",
       "16      46     58\n",
       "17      50     60\n",
       "18      58     64\n",
       "19      64     66\n",
       "20      68     70\n",
       "21      70     71"
      ]
     },
     "execution_count": 125,
     "metadata": {},
     "output_type": "execute_result"
    }
   ],
   "source": [
    "pricedf = pd.read_csv('Dataset/Volume_price_1.csv')\n",
    "pricedf"
   ]
  },
  {
   "cell_type": "code",
   "execution_count": 126,
   "metadata": {
    "pycharm": {
     "name": "#%%\n"
    }
   },
   "outputs": [
    {
     "data": {
      "text/html": [
       "<div>\n",
       "<style scoped>\n",
       "    .dataframe tbody tr th:only-of-type {\n",
       "        vertical-align: middle;\n",
       "    }\n",
       "\n",
       "    .dataframe tbody tr th {\n",
       "        vertical-align: top;\n",
       "    }\n",
       "\n",
       "    .dataframe thead th {\n",
       "        text-align: right;\n",
       "    }\n",
       "</style>\n",
       "<table border=\"1\" class=\"dataframe\">\n",
       "  <thead>\n",
       "    <tr style=\"text-align: right;\">\n",
       "      <th></th>\n",
       "      <th>Volume</th>\n",
       "      <th>Price</th>\n",
       "    </tr>\n",
       "  </thead>\n",
       "  <tbody>\n",
       "    <tr>\n",
       "      <th>Volume</th>\n",
       "      <td>1.000000</td>\n",
       "      <td>0.983426</td>\n",
       "    </tr>\n",
       "    <tr>\n",
       "      <th>Price</th>\n",
       "      <td>0.983426</td>\n",
       "      <td>1.000000</td>\n",
       "    </tr>\n",
       "  </tbody>\n",
       "</table>\n",
       "</div>"
      ],
      "text/plain": [
       "          Volume     Price\n",
       "Volume  1.000000  0.983426\n",
       "Price   0.983426  1.000000"
      ]
     },
     "execution_count": 126,
     "metadata": {},
     "output_type": "execute_result"
    }
   ],
   "source": [
    "pricedf.corr()"
   ]
  },
  {
   "cell_type": "code",
   "execution_count": 130,
   "metadata": {
    "pycharm": {
     "name": "#%%\n"
    }
   },
   "outputs": [],
   "source": [
    "import seaborn as sns"
   ]
  },
  {
   "cell_type": "code",
   "execution_count": 142,
   "metadata": {
    "pycharm": {
     "name": "#%%\n"
    }
   },
   "outputs": [
    {
     "data": {
      "image/png": "[encoded data removed]",
      "text/plain": [
       "<Figure size 432x288 with 2 Axes>"
      ]
     },
     "metadata": {
      "needs_background": "light"
     },
     "output_type": "display_data"
    }
   ],
   "source": [
    "sns.heatmap(pricedf.corr(),cmap=\"ocean_r\",vmin=0.9)\n",
    "plt.show()"
   ]
  },
  {
   "cell_type": "code",
   "execution_count": null,
   "metadata": {
    "pycharm": {
     "name": "#%%\n"
    }
   },
   "outputs": [],
   "source": []
  }
 ],
 "metadata": {
  "kernelspec": {
   "display_name": "Python 3 (ipykernel)",
   "language": "python",
   "name": "python3"
  },
  "language_info": {
   "codemirror_mode": {
    "name": "ipython",
    "version": 3
   },
   "file_extension": ".py",
   "mimetype": "text/x-python",
   "name": "python",
   "nbconvert_exporter": "python",
   "pygments_lexer": "ipython3",
   "version": "3.9.7"
  }
 },
 "nbformat": 4,
 "nbformat_minor": 1
}
