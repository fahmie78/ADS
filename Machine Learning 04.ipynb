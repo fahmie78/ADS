{
 "cells": [
  {
   "cell_type": "code",
   "execution_count": 1,
   "metadata": {
    "collapsed": true
   },
   "outputs": [],
   "source": [
    "import pandas as pd\n",
    "import matplotlib.pyplot as plt\n",
    "import numpy as np"
   ]
  },
  {
   "cell_type": "code",
   "execution_count": 2,
   "outputs": [
    {
     "data": {
      "text/plain": "    S&P department (spend)  Admin department(spend)  \\\n0                   101184                    70674   \n1                    70132                    52030   \n2                   149539                    98535   \n3                    75821                    53649   \n4                    97730                    68667   \n5                    84544                    60923   \n6                   117490                    85379   \n7                   119913                    86499   \n8                   145244                    95108   \n9                   147217                    95598   \n10                   81746                    56815   \n11                  107967                    74058   \n12                   74692                    52493   \n13                   72228                    52210   \n14                   96292                    68521   \n15                  124506                    86995   \n16                  113543                    82796   \n17                  142585                    94589   \n18                  118057                    86227   \n19                   86260                    63082   \n20                   63601                    51026   \n21                  113200                    76388   \n22                  141331                    93725   \n23                   79667                    54864   \n24                  112208                    75407   \n25                   82622                    59754   \n26                  127721                    88888   \n27                  117901                    85532   \n28                  147364                    96275   \n29                  110661                    75404   \n30                  107360                    73604   \n31                   87194                    63403   \n32                   75381                    52575   \n33                  113427                    78653   \n34                  103004                    71720   \n35                  109249                    74209   \n36                  134157                    92647   \n37                  116481                    83866   \n38                   85908                    61800   \n39                  131088                    89489   \n40                   81818                    57716   \n41                   87227                    67434   \n42                  103666                    72280   \n43                  134089                    91457   \n44                  100846                    69194   \n45                   63540                    50907   \n46                  114384                    83388   \n47                   53199                    50191   \n48                  131777                    89570   \n49                  110643                    74362   \n\n    Operation department(spend) state  Profit  \n0                         97009     A  259480  \n1                         63587     B  137019  \n2                        199994     A  495552  \n3                         66500     B  165057  \n4                         91754     B  247841  \n5                         81618     B  219307  \n6                        146277     A  391954  \n7                        150579     B  402015  \n8                        189066     B  458358  \n9                        190309     A  463330  \n10                        72351     B  188824  \n11                       106215     A  305250  \n12                        64267     A  155036  \n13                        63719     A  151200  \n14                        90007     B  244265  \n15                       153382     A  404608  \n16                       122345     B  383129  \n17                       184603     A  455845  \n18                       146948     A  397294  \n19                        85320     A  223401  \n20                        59932     A  134898  \n21                       115984     A  357903  \n22                       171453     B  438294  \n23                        69102     A  173898  \n24                       115316     B  332482  \n25                        72987     A  210403  \n26                       153477     B  413243  \n27                       146822     B  397289  \n28                       191812     B  466013  \n29                       114864     A  326695  \n30                       100773     B  300970  \n31                        87468     B  229567  \n32                        66116     A  159141  \n33                       119763     A  363228  \n34                       100065     B  271059  \n35                       109578     B  317476  \n36                       167690     B  432552  \n37                       141719     A  391295  \n38                        82411     B  222793  \n39                       154742     B  416910  \n40                        72492     A  193164  \n41                        87488     B  241206  \n42                       100346     A  282378  \n43                       166994     B  426668  \n44                        95680     A  251350  \n45                        57776     B  115258  \n46                       126691     A  389887  \n47                        52911     B  110874  \n48                       160129     A  425351  \n49                       112527     A  324743  ",
      "text/html": "<div>\n<style scoped>\n    .dataframe tbody tr th:only-of-type {\n        vertical-align: middle;\n    }\n\n    .dataframe tbody tr th {\n        vertical-align: top;\n    }\n\n    .dataframe thead th {\n        text-align: right;\n    }\n</style>\n<table border=\"1\" class=\"dataframe\">\n  <thead>\n    <tr style=\"text-align: right;\">\n      <th></th>\n      <th>S&amp;P department (spend)</th>\n      <th>Admin department(spend)</th>\n      <th>Operation department(spend)</th>\n      <th>state</th>\n      <th>Profit</th>\n    </tr>\n  </thead>\n  <tbody>\n    <tr>\n      <th>0</th>\n      <td>101184</td>\n      <td>70674</td>\n      <td>97009</td>\n      <td>A</td>\n      <td>259480</td>\n    </tr>\n    <tr>\n      <th>1</th>\n      <td>70132</td>\n      <td>52030</td>\n      <td>63587</td>\n      <td>B</td>\n      <td>137019</td>\n    </tr>\n    <tr>\n      <th>2</th>\n      <td>149539</td>\n      <td>98535</td>\n      <td>199994</td>\n      <td>A</td>\n      <td>495552</td>\n    </tr>\n    <tr>\n      <th>3</th>\n      <td>75821</td>\n      <td>53649</td>\n      <td>66500</td>\n      <td>B</td>\n      <td>165057</td>\n    </tr>\n    <tr>\n      <th>4</th>\n      <td>97730</td>\n      <td>68667</td>\n      <td>91754</td>\n      <td>B</td>\n      <td>247841</td>\n    </tr>\n    <tr>\n      <th>5</th>\n      <td>84544</td>\n      <td>60923</td>\n      <td>81618</td>\n      <td>B</td>\n      <td>219307</td>\n    </tr>\n    <tr>\n      <th>6</th>\n      <td>117490</td>\n      <td>85379</td>\n      <td>146277</td>\n      <td>A</td>\n      <td>391954</td>\n    </tr>\n    <tr>\n      <th>7</th>\n      <td>119913</td>\n      <td>86499</td>\n      <td>150579</td>\n      <td>B</td>\n      <td>402015</td>\n    </tr>\n    <tr>\n      <th>8</th>\n      <td>145244</td>\n      <td>95108</td>\n      <td>189066</td>\n      <td>B</td>\n      <td>458358</td>\n    </tr>\n    <tr>\n      <th>9</th>\n      <td>147217</td>\n      <td>95598</td>\n      <td>190309</td>\n      <td>A</td>\n      <td>463330</td>\n    </tr>\n    <tr>\n      <th>10</th>\n      <td>81746</td>\n      <td>56815</td>\n      <td>72351</td>\n      <td>B</td>\n      <td>188824</td>\n    </tr>\n    <tr>\n      <th>11</th>\n      <td>107967</td>\n      <td>74058</td>\n      <td>106215</td>\n      <td>A</td>\n      <td>305250</td>\n    </tr>\n    <tr>\n      <th>12</th>\n      <td>74692</td>\n      <td>52493</td>\n      <td>64267</td>\n      <td>A</td>\n      <td>155036</td>\n    </tr>\n    <tr>\n      <th>13</th>\n      <td>72228</td>\n      <td>52210</td>\n      <td>63719</td>\n      <td>A</td>\n      <td>151200</td>\n    </tr>\n    <tr>\n      <th>14</th>\n      <td>96292</td>\n      <td>68521</td>\n      <td>90007</td>\n      <td>B</td>\n      <td>244265</td>\n    </tr>\n    <tr>\n      <th>15</th>\n      <td>124506</td>\n      <td>86995</td>\n      <td>153382</td>\n      <td>A</td>\n      <td>404608</td>\n    </tr>\n    <tr>\n      <th>16</th>\n      <td>113543</td>\n      <td>82796</td>\n      <td>122345</td>\n      <td>B</td>\n      <td>383129</td>\n    </tr>\n    <tr>\n      <th>17</th>\n      <td>142585</td>\n      <td>94589</td>\n      <td>184603</td>\n      <td>A</td>\n      <td>455845</td>\n    </tr>\n    <tr>\n      <th>18</th>\n      <td>118057</td>\n      <td>86227</td>\n      <td>146948</td>\n      <td>A</td>\n      <td>397294</td>\n    </tr>\n    <tr>\n      <th>19</th>\n      <td>86260</td>\n      <td>63082</td>\n      <td>85320</td>\n      <td>A</td>\n      <td>223401</td>\n    </tr>\n    <tr>\n      <th>20</th>\n      <td>63601</td>\n      <td>51026</td>\n      <td>59932</td>\n      <td>A</td>\n      <td>134898</td>\n    </tr>\n    <tr>\n      <th>21</th>\n      <td>113200</td>\n      <td>76388</td>\n      <td>115984</td>\n      <td>A</td>\n      <td>357903</td>\n    </tr>\n    <tr>\n      <th>22</th>\n      <td>141331</td>\n      <td>93725</td>\n      <td>171453</td>\n      <td>B</td>\n      <td>438294</td>\n    </tr>\n    <tr>\n      <th>23</th>\n      <td>79667</td>\n      <td>54864</td>\n      <td>69102</td>\n      <td>A</td>\n      <td>173898</td>\n    </tr>\n    <tr>\n      <th>24</th>\n      <td>112208</td>\n      <td>75407</td>\n      <td>115316</td>\n      <td>B</td>\n      <td>332482</td>\n    </tr>\n    <tr>\n      <th>25</th>\n      <td>82622</td>\n      <td>59754</td>\n      <td>72987</td>\n      <td>A</td>\n      <td>210403</td>\n    </tr>\n    <tr>\n      <th>26</th>\n      <td>127721</td>\n      <td>88888</td>\n      <td>153477</td>\n      <td>B</td>\n      <td>413243</td>\n    </tr>\n    <tr>\n      <th>27</th>\n      <td>117901</td>\n      <td>85532</td>\n      <td>146822</td>\n      <td>B</td>\n      <td>397289</td>\n    </tr>\n    <tr>\n      <th>28</th>\n      <td>147364</td>\n      <td>96275</td>\n      <td>191812</td>\n      <td>B</td>\n      <td>466013</td>\n    </tr>\n    <tr>\n      <th>29</th>\n      <td>110661</td>\n      <td>75404</td>\n      <td>114864</td>\n      <td>A</td>\n      <td>326695</td>\n    </tr>\n    <tr>\n      <th>30</th>\n      <td>107360</td>\n      <td>73604</td>\n      <td>100773</td>\n      <td>B</td>\n      <td>300970</td>\n    </tr>\n    <tr>\n      <th>31</th>\n      <td>87194</td>\n      <td>63403</td>\n      <td>87468</td>\n      <td>B</td>\n      <td>229567</td>\n    </tr>\n    <tr>\n      <th>32</th>\n      <td>75381</td>\n      <td>52575</td>\n      <td>66116</td>\n      <td>A</td>\n      <td>159141</td>\n    </tr>\n    <tr>\n      <th>33</th>\n      <td>113427</td>\n      <td>78653</td>\n      <td>119763</td>\n      <td>A</td>\n      <td>363228</td>\n    </tr>\n    <tr>\n      <th>34</th>\n      <td>103004</td>\n      <td>71720</td>\n      <td>100065</td>\n      <td>B</td>\n      <td>271059</td>\n    </tr>\n    <tr>\n      <th>35</th>\n      <td>109249</td>\n      <td>74209</td>\n      <td>109578</td>\n      <td>B</td>\n      <td>317476</td>\n    </tr>\n    <tr>\n      <th>36</th>\n      <td>134157</td>\n      <td>92647</td>\n      <td>167690</td>\n      <td>B</td>\n      <td>432552</td>\n    </tr>\n    <tr>\n      <th>37</th>\n      <td>116481</td>\n      <td>83866</td>\n      <td>141719</td>\n      <td>A</td>\n      <td>391295</td>\n    </tr>\n    <tr>\n      <th>38</th>\n      <td>85908</td>\n      <td>61800</td>\n      <td>82411</td>\n      <td>B</td>\n      <td>222793</td>\n    </tr>\n    <tr>\n      <th>39</th>\n      <td>131088</td>\n      <td>89489</td>\n      <td>154742</td>\n      <td>B</td>\n      <td>416910</td>\n    </tr>\n    <tr>\n      <th>40</th>\n      <td>81818</td>\n      <td>57716</td>\n      <td>72492</td>\n      <td>A</td>\n      <td>193164</td>\n    </tr>\n    <tr>\n      <th>41</th>\n      <td>87227</td>\n      <td>67434</td>\n      <td>87488</td>\n      <td>B</td>\n      <td>241206</td>\n    </tr>\n    <tr>\n      <th>42</th>\n      <td>103666</td>\n      <td>72280</td>\n      <td>100346</td>\n      <td>A</td>\n      <td>282378</td>\n    </tr>\n    <tr>\n      <th>43</th>\n      <td>134089</td>\n      <td>91457</td>\n      <td>166994</td>\n      <td>B</td>\n      <td>426668</td>\n    </tr>\n    <tr>\n      <th>44</th>\n      <td>100846</td>\n      <td>69194</td>\n      <td>95680</td>\n      <td>A</td>\n      <td>251350</td>\n    </tr>\n    <tr>\n      <th>45</th>\n      <td>63540</td>\n      <td>50907</td>\n      <td>57776</td>\n      <td>B</td>\n      <td>115258</td>\n    </tr>\n    <tr>\n      <th>46</th>\n      <td>114384</td>\n      <td>83388</td>\n      <td>126691</td>\n      <td>A</td>\n      <td>389887</td>\n    </tr>\n    <tr>\n      <th>47</th>\n      <td>53199</td>\n      <td>50191</td>\n      <td>52911</td>\n      <td>B</td>\n      <td>110874</td>\n    </tr>\n    <tr>\n      <th>48</th>\n      <td>131777</td>\n      <td>89570</td>\n      <td>160129</td>\n      <td>A</td>\n      <td>425351</td>\n    </tr>\n    <tr>\n      <th>49</th>\n      <td>110643</td>\n      <td>74362</td>\n      <td>112527</td>\n      <td>A</td>\n      <td>324743</td>\n    </tr>\n  </tbody>\n</table>\n</div>"
     },
     "execution_count": 2,
     "metadata": {},
     "output_type": "execute_result"
    }
   ],
   "source": [
    "pricedf = pd.read_csv('Dataset/MLR_mix.csv')\n",
    "pricedf"
   ],
   "metadata": {
    "collapsed": false,
    "pycharm": {
     "name": "#%%\n"
    }
   }
  },
  {
   "cell_type": "code",
   "execution_count": 4,
   "outputs": [
    {
     "data": {
      "text/plain": "(50, 5)"
     },
     "execution_count": 4,
     "metadata": {},
     "output_type": "execute_result"
    }
   ],
   "source": [
    "pricedf.shape"
   ],
   "metadata": {
    "collapsed": false,
    "pycharm": {
     "name": "#%%\n"
    }
   }
  },
  {
   "cell_type": "code",
   "execution_count": 43,
   "outputs": [
    {
     "name": "stdout",
     "output_type": "stream",
     "text": [
      "[[101184 70674 97009 'A']\n",
      " [70132 52030 63587 'B']\n",
      " [149539 98535 199994 'A']\n",
      " [75821 53649 66500 'B']\n",
      " [97730 68667 91754 'B']\n",
      " [84544 60923 81618 'B']\n",
      " [117490 85379 146277 'A']\n",
      " [119913 86499 150579 'B']\n",
      " [145244 95108 189066 'B']\n",
      " [147217 95598 190309 'A']\n",
      " [81746 56815 72351 'B']\n",
      " [107967 74058 106215 'A']\n",
      " [74692 52493 64267 'A']\n",
      " [72228 52210 63719 'A']\n",
      " [96292 68521 90007 'B']\n",
      " [124506 86995 153382 'A']\n",
      " [113543 82796 122345 'B']\n",
      " [142585 94589 184603 'A']\n",
      " [118057 86227 146948 'A']\n",
      " [86260 63082 85320 'A']\n",
      " [63601 51026 59932 'A']\n",
      " [113200 76388 115984 'A']\n",
      " [141331 93725 171453 'B']\n",
      " [79667 54864 69102 'A']\n",
      " [112208 75407 115316 'B']\n",
      " [82622 59754 72987 'A']\n",
      " [127721 88888 153477 'B']\n",
      " [117901 85532 146822 'B']\n",
      " [147364 96275 191812 'B']\n",
      " [110661 75404 114864 'A']\n",
      " [107360 73604 100773 'B']\n",
      " [87194 63403 87468 'B']\n",
      " [75381 52575 66116 'A']\n",
      " [113427 78653 119763 'A']\n",
      " [103004 71720 100065 'B']\n",
      " [109249 74209 109578 'B']\n",
      " [134157 92647 167690 'B']\n",
      " [116481 83866 141719 'A']\n",
      " [85908 61800 82411 'B']\n",
      " [131088 89489 154742 'B']\n",
      " [81818 57716 72492 'A']\n",
      " [87227 67434 87488 'B']\n",
      " [103666 72280 100346 'A']\n",
      " [134089 91457 166994 'B']\n",
      " [100846 69194 95680 'A']\n",
      " [63540 50907 57776 'B']\n",
      " [114384 83388 126691 'A']\n",
      " [53199 50191 52911 'B']\n",
      " [131777 89570 160129 'A']\n",
      " [110643 74362 112527 'A']]\n"
     ]
    }
   ],
   "source": [
    "x = pricedf.iloc[:,:-1].values\n",
    "print(x)"
   ],
   "metadata": {
    "collapsed": false,
    "pycharm": {
     "name": "#%%\n"
    }
   }
  },
  {
   "cell_type": "code",
   "execution_count": 44,
   "outputs": [
    {
     "name": "stdout",
     "output_type": "stream",
     "text": [
      "[[0.0 101184 70674 97009]\n",
      " [1.0 70132 52030 63587]\n",
      " [0.0 149539 98535 199994]\n",
      " [1.0 75821 53649 66500]\n",
      " [1.0 97730 68667 91754]\n",
      " [1.0 84544 60923 81618]\n",
      " [0.0 117490 85379 146277]\n",
      " [1.0 119913 86499 150579]\n",
      " [1.0 145244 95108 189066]\n",
      " [0.0 147217 95598 190309]\n",
      " [1.0 81746 56815 72351]\n",
      " [0.0 107967 74058 106215]\n",
      " [0.0 74692 52493 64267]\n",
      " [0.0 72228 52210 63719]\n",
      " [1.0 96292 68521 90007]\n",
      " [0.0 124506 86995 153382]\n",
      " [1.0 113543 82796 122345]\n",
      " [0.0 142585 94589 184603]\n",
      " [0.0 118057 86227 146948]\n",
      " [0.0 86260 63082 85320]\n",
      " [0.0 63601 51026 59932]\n",
      " [0.0 113200 76388 115984]\n",
      " [1.0 141331 93725 171453]\n",
      " [0.0 79667 54864 69102]\n",
      " [1.0 112208 75407 115316]\n",
      " [0.0 82622 59754 72987]\n",
      " [1.0 127721 88888 153477]\n",
      " [1.0 117901 85532 146822]\n",
      " [1.0 147364 96275 191812]\n",
      " [0.0 110661 75404 114864]\n",
      " [1.0 107360 73604 100773]\n",
      " [1.0 87194 63403 87468]\n",
      " [0.0 75381 52575 66116]\n",
      " [0.0 113427 78653 119763]\n",
      " [1.0 103004 71720 100065]\n",
      " [1.0 109249 74209 109578]\n",
      " [1.0 134157 92647 167690]\n",
      " [0.0 116481 83866 141719]\n",
      " [1.0 85908 61800 82411]\n",
      " [1.0 131088 89489 154742]\n",
      " [0.0 81818 57716 72492]\n",
      " [1.0 87227 67434 87488]\n",
      " [0.0 103666 72280 100346]\n",
      " [1.0 134089 91457 166994]\n",
      " [0.0 100846 69194 95680]\n",
      " [1.0 63540 50907 57776]\n",
      " [0.0 114384 83388 126691]\n",
      " [1.0 53199 50191 52911]\n",
      " [0.0 131777 89570 160129]\n",
      " [0.0 110643 74362 112527]]\n"
     ]
    }
   ],
   "source": [
    "from sklearn.preprocessing import LabelEncoder, OneHotEncoder\n",
    "from sklearn.compose import ColumnTransformer\n",
    "\n",
    "labelencoder_x = LabelEncoder()\n",
    "x[:, 3] = labelencoder_x.fit_transform(x[:, 3])\n",
    "ct = ColumnTransformer([(\"State\", OneHotEncoder(), [3])], remainder = 'passthrough')\n",
    "x = ct.fit_transform(x)\n",
    "x = x[:,1:]\n",
    "print(x)\n"
   ],
   "metadata": {
    "collapsed": false,
    "pycharm": {
     "name": "#%%\n"
    }
   }
  },
  {
   "cell_type": "code",
   "execution_count": 30,
   "outputs": [
    {
     "name": "stdout",
     "output_type": "stream",
     "text": [
      "[259480 137019 495552 165057 247841 219307 391954 402015 458358 463330\n",
      " 188824 305250 155036 151200 244265 404608 383129 455845 397294 223401\n",
      " 134898 357903 438294 173898 332482 210403 413243 397289 466013 326695\n",
      " 300970 229567 159141 363228 271059 317476 432552 391295 222793 416910\n",
      " 193164 241206 282378 426668 251350 115258 389887 110874 425351 324743]\n"
     ]
    }
   ],
   "source": [
    "y = pricedf.iloc[:,-1].values\n",
    "print(y)"
   ],
   "metadata": {
    "collapsed": false,
    "pycharm": {
     "name": "#%%\n"
    }
   }
  },
  {
   "cell_type": "code",
   "execution_count": 31,
   "outputs": [
    {
     "data": {
      "text/plain": "                             S&P department (spend)  Admin department(spend)  \\\nS&P department (spend)                     1.000000                 0.984560   \nAdmin department(spend)                    0.984560                 1.000000   \nOperation department(spend)                0.976437                 0.980723   \nProfit                                     0.982576                 0.993823   \n\n                             Operation department(spend)    Profit  \nS&P department (spend)                          0.976437  0.982576  \nAdmin department(spend)                         0.980723  0.993823  \nOperation department(spend)                     1.000000  0.975566  \nProfit                                          0.975566  1.000000  ",
      "text/html": "<div>\n<style scoped>\n    .dataframe tbody tr th:only-of-type {\n        vertical-align: middle;\n    }\n\n    .dataframe tbody tr th {\n        vertical-align: top;\n    }\n\n    .dataframe thead th {\n        text-align: right;\n    }\n</style>\n<table border=\"1\" class=\"dataframe\">\n  <thead>\n    <tr style=\"text-align: right;\">\n      <th></th>\n      <th>S&amp;P department (spend)</th>\n      <th>Admin department(spend)</th>\n      <th>Operation department(spend)</th>\n      <th>Profit</th>\n    </tr>\n  </thead>\n  <tbody>\n    <tr>\n      <th>S&amp;P department (spend)</th>\n      <td>1.000000</td>\n      <td>0.984560</td>\n      <td>0.976437</td>\n      <td>0.982576</td>\n    </tr>\n    <tr>\n      <th>Admin department(spend)</th>\n      <td>0.984560</td>\n      <td>1.000000</td>\n      <td>0.980723</td>\n      <td>0.993823</td>\n    </tr>\n    <tr>\n      <th>Operation department(spend)</th>\n      <td>0.976437</td>\n      <td>0.980723</td>\n      <td>1.000000</td>\n      <td>0.975566</td>\n    </tr>\n    <tr>\n      <th>Profit</th>\n      <td>0.982576</td>\n      <td>0.993823</td>\n      <td>0.975566</td>\n      <td>1.000000</td>\n    </tr>\n  </tbody>\n</table>\n</div>"
     },
     "execution_count": 31,
     "metadata": {},
     "output_type": "execute_result"
    }
   ],
   "source": [
    "pricedf.corr()"
   ],
   "metadata": {
    "collapsed": false,
    "pycharm": {
     "name": "#%%\n"
    }
   }
  },
  {
   "cell_type": "code",
   "execution_count": 32,
   "outputs": [],
   "source": [
    "from sklearn.model_selection import train_test_split\n",
    "x_train, x_test, y_train, y_test = train_test_split(x,y, test_size=0.2, random_state=0)"
   ],
   "metadata": {
    "collapsed": false,
    "pycharm": {
     "name": "#%%\n"
    }
   }
  },
  {
   "cell_type": "code",
   "execution_count": 34,
   "outputs": [
    {
     "name": "stdout",
     "output_type": "stream",
     "text": [
      "Coefficients, beta: [-7.64437381e+03  6.21135973e-01  6.94950794e+00 -1.91570893e-01]\n",
      "Contant, alpha: [-247075.19282106]\n"
     ]
    }
   ],
   "source": [
    "from sklearn.linear_model import LinearRegression\n",
    "\n",
    "regressor = LinearRegression()\n",
    "regressor.fit(x_train, y_train)\n",
    "\n",
    "print('Coefficients, beta:', regressor.coef_)\n",
    "print('Contant, alpha:', regressor.predict([[0,0,0,0]]))"
   ],
   "metadata": {
    "collapsed": false,
    "pycharm": {
     "name": "#%%\n"
    }
   }
  },
  {
   "cell_type": "code",
   "execution_count": 35,
   "outputs": [
    {
     "name": "stdout",
     "output_type": "stream",
     "text": [
      "[469131.79514153 314305.95098855 177031.76224272 251333.22466428\n",
      " 492265.59457446 384791.47672058 212333.02403266 223303.09210661\n",
      " 451563.42840049 265608.51763769]\n",
      "[466013 305250 188824 241206 495552 397289 222793 229567 438294 247841]\n"
     ]
    }
   ],
   "source": [
    "y_pred = regressor.predict(x_test)\n",
    "print(y_pred) # comparison predict\n",
    "print(y_test) # and actual"
   ],
   "metadata": {
    "collapsed": false,
    "pycharm": {
     "name": "#%%\n"
    }
   }
  },
  {
   "cell_type": "code",
   "execution_count": 14,
   "outputs": [
    {
     "name": "stdout",
     "output_type": "stream",
     "text": [
      "[[1.         0.99542528]\n",
      " [0.99542528 1.        ]]\n"
     ]
    }
   ],
   "source": [
    "corr = np.corrcoef(y_pred, y_test)\n",
    "print(corr) # check correlation between predicted and actual."
   ],
   "metadata": {
    "collapsed": false,
    "pycharm": {
     "name": "#%%\n"
    }
   }
  },
  {
   "cell_type": "code",
   "execution_count": 15,
   "outputs": [
    {
     "name": "stdout",
     "output_type": "stream",
     "text": [
      "114075328.33234176\n"
     ]
    }
   ],
   "source": [
    "from sklearn.metrics import mean_squared_error\n",
    "\n",
    "MSE = mean_squared_error(y_test, y_pred)\n",
    "print(MSE)"
   ],
   "metadata": {
    "collapsed": false,
    "pycharm": {
     "name": "#%%\n"
    }
   }
  },
  {
   "cell_type": "code",
   "execution_count": 12,
   "outputs": [],
   "source": [],
   "metadata": {
    "collapsed": false,
    "pycharm": {
     "name": "#%%\n"
    }
   }
  }
 ],
 "metadata": {
  "kernelspec": {
   "display_name": "Python 3",
   "language": "python",
   "name": "python3"
  },
  "language_info": {
   "codemirror_mode": {
    "name": "ipython",
    "version": 2
   },
   "file_extension": ".py",
   "mimetype": "text/x-python",
   "name": "python",
   "nbconvert_exporter": "python",
   "pygments_lexer": "ipython2",
   "version": "2.7.6"
  }
 },
 "nbformat": 4,
 "nbformat_minor": 0
}