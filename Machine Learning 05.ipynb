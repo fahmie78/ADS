{
 "cells": [
  {
   "cell_type": "code",
   "execution_count": 18,
   "metadata": {
    "collapsed": true
   },
   "outputs": [],
   "source": [
    "import pandas as pd\n",
    "import matplotlib.pyplot as plt\n",
    "import numpy as np"
   ]
  },
  {
   "cell_type": "code",
   "execution_count": 19,
   "outputs": [
    {
     "data": {
      "text/plain": "    Volume     Price\n0       10    393.10\n1       11    471.91\n2       14    751.66\n3       16    974.26\n4       17   1096.39\n5       18   1225.74\n6       19   1362.31\n7       20   1506.10\n8       22   1815.34\n9       24   2153.46\n10      27   2714.79\n11      29   3125.11\n12      32   3794.74\n13      35   4529.35\n14      38   5328.94\n15      42   6496.14\n16      46   7778.86\n17      50   9177.10\n18      58  12320.14\n19      64  14980.66\n20      68  16898.74\n21      70  17901.10\n22      90  50000.00",
      "text/html": "<div>\n<style scoped>\n    .dataframe tbody tr th:only-of-type {\n        vertical-align: middle;\n    }\n\n    .dataframe tbody tr th {\n        vertical-align: top;\n    }\n\n    .dataframe thead th {\n        text-align: right;\n    }\n</style>\n<table border=\"1\" class=\"dataframe\">\n  <thead>\n    <tr style=\"text-align: right;\">\n      <th></th>\n      <th>Volume</th>\n      <th>Price</th>\n    </tr>\n  </thead>\n  <tbody>\n    <tr>\n      <th>0</th>\n      <td>10</td>\n      <td>393.10</td>\n    </tr>\n    <tr>\n      <th>1</th>\n      <td>11</td>\n      <td>471.91</td>\n    </tr>\n    <tr>\n      <th>2</th>\n      <td>14</td>\n      <td>751.66</td>\n    </tr>\n    <tr>\n      <th>3</th>\n      <td>16</td>\n      <td>974.26</td>\n    </tr>\n    <tr>\n      <th>4</th>\n      <td>17</td>\n      <td>1096.39</td>\n    </tr>\n    <tr>\n      <th>5</th>\n      <td>18</td>\n      <td>1225.74</td>\n    </tr>\n    <tr>\n      <th>6</th>\n      <td>19</td>\n      <td>1362.31</td>\n    </tr>\n    <tr>\n      <th>7</th>\n      <td>20</td>\n      <td>1506.10</td>\n    </tr>\n    <tr>\n      <th>8</th>\n      <td>22</td>\n      <td>1815.34</td>\n    </tr>\n    <tr>\n      <th>9</th>\n      <td>24</td>\n      <td>2153.46</td>\n    </tr>\n    <tr>\n      <th>10</th>\n      <td>27</td>\n      <td>2714.79</td>\n    </tr>\n    <tr>\n      <th>11</th>\n      <td>29</td>\n      <td>3125.11</td>\n    </tr>\n    <tr>\n      <th>12</th>\n      <td>32</td>\n      <td>3794.74</td>\n    </tr>\n    <tr>\n      <th>13</th>\n      <td>35</td>\n      <td>4529.35</td>\n    </tr>\n    <tr>\n      <th>14</th>\n      <td>38</td>\n      <td>5328.94</td>\n    </tr>\n    <tr>\n      <th>15</th>\n      <td>42</td>\n      <td>6496.14</td>\n    </tr>\n    <tr>\n      <th>16</th>\n      <td>46</td>\n      <td>7778.86</td>\n    </tr>\n    <tr>\n      <th>17</th>\n      <td>50</td>\n      <td>9177.10</td>\n    </tr>\n    <tr>\n      <th>18</th>\n      <td>58</td>\n      <td>12320.14</td>\n    </tr>\n    <tr>\n      <th>19</th>\n      <td>64</td>\n      <td>14980.66</td>\n    </tr>\n    <tr>\n      <th>20</th>\n      <td>68</td>\n      <td>16898.74</td>\n    </tr>\n    <tr>\n      <th>21</th>\n      <td>70</td>\n      <td>17901.10</td>\n    </tr>\n    <tr>\n      <th>22</th>\n      <td>90</td>\n      <td>50000.00</td>\n    </tr>\n  </tbody>\n</table>\n</div>"
     },
     "execution_count": 19,
     "metadata": {},
     "output_type": "execute_result"
    }
   ],
   "source": [
    "pricedf = pd.read_csv('Dataset/Volume_price.csv')\n",
    "pricedf"
   ],
   "metadata": {
    "collapsed": false,
    "pycharm": {
     "name": "#%%\n"
    }
   }
  },
  {
   "cell_type": "code",
   "execution_count": 20,
   "outputs": [
    {
     "data": {
      "text/plain": "(23, 2)"
     },
     "execution_count": 20,
     "metadata": {},
     "output_type": "execute_result"
    }
   ],
   "source": [
    "pricedf.shape"
   ],
   "metadata": {
    "collapsed": false,
    "pycharm": {
     "name": "#%%\n"
    }
   }
  },
  {
   "cell_type": "code",
   "execution_count": 21,
   "outputs": [
    {
     "name": "stdout",
     "output_type": "stream",
     "text": [
      "[[10]\n",
      " [11]\n",
      " [14]\n",
      " [16]\n",
      " [17]\n",
      " [18]\n",
      " [19]\n",
      " [20]\n",
      " [22]\n",
      " [24]\n",
      " [27]\n",
      " [29]\n",
      " [32]\n",
      " [35]\n",
      " [38]\n",
      " [42]\n",
      " [46]\n",
      " [50]\n",
      " [58]\n",
      " [64]\n",
      " [68]\n",
      " [70]\n",
      " [90]]\n"
     ]
    }
   ],
   "source": [
    "x = pricedf.iloc[:,:-1].values\n",
    "print(x)"
   ],
   "metadata": {
    "collapsed": false,
    "pycharm": {
     "name": "#%%\n"
    }
   }
  },
  {
   "cell_type": "code",
   "execution_count": 22,
   "outputs": [
    {
     "name": "stdout",
     "output_type": "stream",
     "text": [
      "[  393.1    471.91   751.66   974.26  1096.39  1225.74  1362.31  1506.1\n",
      "  1815.34  2153.46  2714.79  3125.11  3794.74  4529.35  5328.94  6496.14\n",
      "  7778.86  9177.1  12320.14 14980.66 16898.74 17901.1  50000.  ]\n"
     ]
    }
   ],
   "source": [
    "y = pricedf.iloc[:,-1].values\n",
    "print(y)"
   ],
   "metadata": {
    "collapsed": false,
    "pycharm": {
     "name": "#%%\n"
    }
   }
  },
  {
   "cell_type": "code",
   "execution_count": 23,
   "outputs": [
    {
     "data": {
      "text/plain": "          Volume     Price\nVolume  1.000000  0.881423\nPrice   0.881423  1.000000",
      "text/html": "<div>\n<style scoped>\n    .dataframe tbody tr th:only-of-type {\n        vertical-align: middle;\n    }\n\n    .dataframe tbody tr th {\n        vertical-align: top;\n    }\n\n    .dataframe thead th {\n        text-align: right;\n    }\n</style>\n<table border=\"1\" class=\"dataframe\">\n  <thead>\n    <tr style=\"text-align: right;\">\n      <th></th>\n      <th>Volume</th>\n      <th>Price</th>\n    </tr>\n  </thead>\n  <tbody>\n    <tr>\n      <th>Volume</th>\n      <td>1.000000</td>\n      <td>0.881423</td>\n    </tr>\n    <tr>\n      <th>Price</th>\n      <td>0.881423</td>\n      <td>1.000000</td>\n    </tr>\n  </tbody>\n</table>\n</div>"
     },
     "execution_count": 23,
     "metadata": {},
     "output_type": "execute_result"
    }
   ],
   "source": [
    "pricedf.corr()"
   ],
   "metadata": {
    "collapsed": false,
    "pycharm": {
     "name": "#%%\n"
    }
   }
  },
  {
   "cell_type": "code",
   "execution_count": 24,
   "outputs": [],
   "source": [
    "from sklearn.model_selection import train_test_split\n",
    "from sklearn.preprocessing import PolynomialFeatures\n",
    "from sklearn.linear_model import LinearRegression\n",
    "poly_reg= PolynomialFeatures(degree=2)\n",
    "x_poly=poly_reg.fit_transform(x)\n",
    "regressor=LinearRegression()\n",
    "regressor.fit(x_poly,y)\n",
    "x_train, x_test, y_train, y_test = train_test_split(x,y, test_size=0.2, random_state=0)"
   ],
   "metadata": {
    "collapsed": false,
    "pycharm": {
     "name": "#%%\n"
    }
   }
  },
  {
   "cell_type": "code",
   "execution_count": 29,
   "outputs": [
    {
     "name": "stdout",
     "output_type": "stream",
     "text": [
      "[ 1604.03692558  1381.94839168 22852.83269768  3540.98615167\n",
      " 21077.62966823]\n",
      "[ 3125.11  2714.79 17901.1   5328.94 16898.74]\n"
     ]
    }
   ],
   "source": [
    "y_pred = regressor.predict(poly_reg.fit_transform(x_test))\n",
    "print(y_pred) # comparison predict\n",
    "print(y_test) # and actual"
   ],
   "metadata": {
    "collapsed": false,
    "pycharm": {
     "name": "#%%\n"
    }
   }
  },
  {
   "cell_type": "code",
   "execution_count": 30,
   "outputs": [
    {
     "name": "stdout",
     "output_type": "stream",
     "text": [
      "[[1.         0.99844074]\n",
      " [0.99844074 1.        ]]\n"
     ]
    }
   ],
   "source": [
    "corr = np.corrcoef(y_pred, y_test)\n",
    "print(corr) # check correlation between predicted and actual."
   ],
   "metadata": {
    "collapsed": false,
    "pycharm": {
     "name": "#%%\n"
    }
   }
  },
  {
   "cell_type": "code",
   "execution_count": 31,
   "outputs": [
    {
     "name": "stdout",
     "output_type": "stream",
     "text": [
      "9853936.916578215\n"
     ]
    }
   ],
   "source": [
    "from sklearn.metrics import mean_squared_error\n",
    "\n",
    "MSE = mean_squared_error(y_test, y_pred)\n",
    "print(MSE)"
   ],
   "metadata": {
    "collapsed": false,
    "pycharm": {
     "name": "#%%\n"
    }
   }
  },
  {
   "cell_type": "code",
   "execution_count": 35,
   "outputs": [
    {
     "data": {
      "text/plain": "<Figure size 432x288 with 1 Axes>",
      "image/png": "[encoded data removed]"
     },
     "metadata": {},
     "output_type": "display_data"
    }
   ],
   "source": [
    "plt.scatter(x_train, y_train, color='blue')\n",
    "plt.plot(x, regressor.predict(poly_reg.fit_transform(x)), color='red')\n",
    "plt.title('Price vs Volume (training set')\n",
    "plt.xlabel('Sales')\n",
    "plt.ylabel('Cost')\n",
    "plt.show()"
   ],
   "metadata": {
    "collapsed": false,
    "pycharm": {
     "name": "#%%\n"
    }
   }
  },
  {
   "cell_type": "code",
   "execution_count": null,
   "outputs": [],
   "source": [],
   "metadata": {
    "collapsed": false,
    "pycharm": {
     "name": "#%%\n"
    }
   }
  }
 ],
 "metadata": {
  "kernelspec": {
   "display_name": "Python 3",
   "language": "python",
   "name": "python3"
  },
  "language_info": {
   "codemirror_mode": {
    "name": "ipython",
    "version": 2
   },
   "file_extension": ".py",
   "mimetype": "text/x-python",
   "name": "python",
   "nbconvert_exporter": "python",
   "pygments_lexer": "ipython2",
   "version": "2.7.6"
  }
 },
 "nbformat": 4,
 "nbformat_minor": 0
}